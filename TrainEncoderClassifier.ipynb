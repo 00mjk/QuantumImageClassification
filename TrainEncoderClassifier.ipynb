{
 "cells": [
  {
   "cell_type": "code",
   "execution_count": 2,
   "metadata": {},
   "outputs": [],
   "source": [
    "import os\n",
    "import time\n",
    "import torch\n",
    "import torch.optim as optim\n",
    "import torch.nn as nn\n",
    "import matplotlib.pyplot as plt\n",
    "from torchsummary import summary\n",
    "from MNISTData import MNISTData\n",
    "from AutoEncoder import AutoEncoder\n",
    "from EncoderClassifier import EncoderClassifier"
   ]
  },
  {
   "cell_type": "code",
   "execution_count": 3,
   "metadata": {},
   "outputs": [],
   "source": [
    "data = MNISTData()\n",
    "train_loader = data.get_train_loader()\n",
    "test_loader = data.get_test_loader()"
   ]
  },
  {
   "cell_type": "code",
   "execution_count": 4,
   "metadata": {},
   "outputs": [],
   "source": [
    "load_from = \"./autoencoder_models/1558553790/ae.pt\""
   ]
  },
  {
   "cell_type": "code",
   "execution_count": 5,
   "metadata": {},
   "outputs": [
    {
     "data": {
      "text/plain": [
       "IncompatibleKeys(missing_keys=[], unexpected_keys=[])"
      ]
     },
     "execution_count": 5,
     "metadata": {},
     "output_type": "execute_result"
    }
   ],
   "source": [
    "ae = AutoEncoder()\n",
    "ae.load_state_dict(torch.load(load_from))"
   ]
  },
  {
   "cell_type": "code",
   "execution_count": 6,
   "metadata": {},
   "outputs": [
    {
     "name": "stdout",
     "output_type": "stream",
     "text": [
      "----------------------------------------------------------------\n",
      "        Layer (type)               Output Shape         Param #\n",
      "================================================================\n",
      "            Linear-1                  [-1, 256]         200,960\n",
      "              ReLU-2                  [-1, 256]               0\n",
      "            Linear-3                   [-1, 64]          16,448\n",
      "              ReLU-4                   [-1, 64]               0\n",
      "            Linear-5                   [-1, 16]           1,040\n",
      "              ReLU-6                   [-1, 16]               0\n",
      "            Linear-7                   [-1, 64]           1,088\n",
      "              ReLU-8                   [-1, 64]               0\n",
      "            Linear-9                  [-1, 256]          16,640\n",
      "             ReLU-10                  [-1, 256]               0\n",
      "           Linear-11                  [-1, 784]         201,488\n",
      "          Sigmoid-12                  [-1, 784]               0\n",
      "================================================================\n",
      "Total params: 437,664\n",
      "Trainable params: 437,664\n",
      "Non-trainable params: 0\n",
      "----------------------------------------------------------------\n",
      "Input size (MB): 0.00\n",
      "Forward/backward pass size (MB): 0.02\n",
      "Params size (MB): 1.67\n",
      "Estimated Total Size (MB): 1.69\n",
      "----------------------------------------------------------------\n"
     ]
    }
   ],
   "source": [
    "summary(ae, input_size=(1, 28, 28))"
   ]
  },
  {
   "cell_type": "code",
   "execution_count": 8,
   "metadata": {},
   "outputs": [
    {
     "name": "stdout",
     "output_type": "stream",
     "text": [
      "----------------------------------------------------------------\n",
      "        Layer (type)               Output Shape         Param #\n",
      "================================================================\n",
      "            Linear-1                  [-1, 256]         200,960\n",
      "              ReLU-2                  [-1, 256]               0\n",
      "            Linear-3                   [-1, 64]          16,448\n",
      "              ReLU-4                   [-1, 64]               0\n",
      "            Linear-5                   [-1, 16]           1,040\n",
      "              ReLU-6                   [-1, 16]               0\n",
      "            Linear-7                 [-1, 1000]          17,000\n",
      "           Dropout-8                 [-1, 1000]               0\n",
      "            Linear-9                   [-1, 10]          10,010\n",
      "================================================================\n",
      "Total params: 245,458\n",
      "Trainable params: 27,010\n",
      "Non-trainable params: 218,448\n",
      "----------------------------------------------------------------\n",
      "Input size (MB): 0.00\n",
      "Forward/backward pass size (MB): 0.02\n",
      "Params size (MB): 0.94\n",
      "Estimated Total Size (MB): 0.96\n",
      "----------------------------------------------------------------\n"
     ]
    }
   ],
   "source": [
    "ec = EncoderClassifier(encoder)\n",
    "summary(ec, input_size=(1, 28, 28))"
   ]
  },
  {
   "cell_type": "code",
   "execution_count": 9,
   "metadata": {},
   "outputs": [],
   "source": [
    "save_directory = \"./encoderclassifier_models\"\n",
    "def save_model(model, model_name=\"ec.pt\", message=None):\n",
    "    if not os.path.exists(save_directory):\n",
    "        os.makedirs(save_directory)\n",
    "    subdirectory_name = str(int(time.time()))\n",
    "    subdirectory_path = os.path.join(save_directory, subdirectory_name)\n",
    "    if not os.path.exists(subdirectory_path):\n",
    "        os.makedirs(subdirectory_path)\n",
    "    save_path = os.path.join(subdirectory_path, model_name)\n",
    "    torch.save(model.state_dict(), save_path)\n",
    "    if message is not None:\n",
    "        message_save_path = os.path.join(subdirectory_path, \"message.txt\")\n",
    "        with open(message_save_path, 'w') as f:\n",
    "            f.write(message + \"\\n\")\n",
    "    print(\"everything was saved to %s\" % subdirectory_path)"
   ]
  },
  {
   "cell_type": "code",
   "execution_count": 10,
   "metadata": {},
   "outputs": [],
   "source": [
    "criterion = nn.CrossEntropyLoss()\n",
    "optimizer = optim.SGD(ec.parameters(), lr=.01, momentum=.9)"
   ]
  },
  {
   "cell_type": "code",
   "execution_count": 11,
   "metadata": {},
   "outputs": [
    {
     "name": "stdout",
     "output_type": "stream",
     "text": [
      "[1,   200] loss: 32.768\n",
      "[1,   400] loss: 20.119\n",
      "[2,   200] loss: 17.550\n",
      "[2,   400] loss: 18.713\n",
      "[3,   200] loss: 17.065\n",
      "[3,   400] loss: 16.493\n",
      "[4,   200] loss: 15.432\n",
      "[4,   400] loss: 14.007\n",
      "[5,   200] loss: 13.506\n",
      "[5,   400] loss: 12.648\n",
      "[6,   200] loss: 12.015\n",
      "[6,   400] loss: 12.426\n",
      "[7,   200] loss: 9.639\n",
      "[7,   400] loss: 11.043\n",
      "[8,   200] loss: 10.299\n",
      "[8,   400] loss: 9.533\n",
      "[9,   200] loss: 9.297\n",
      "[9,   400] loss: 9.724\n",
      "[10,   200] loss: 8.381\n",
      "[10,   400] loss: 7.866\n",
      "[11,   200] loss: 6.315\n",
      "[11,   400] loss: 5.747\n",
      "[12,   200] loss: 4.498\n",
      "[12,   400] loss: 4.120\n",
      "[13,   200] loss: 3.408\n",
      "[13,   400] loss: 3.239\n",
      "[14,   200] loss: 2.253\n",
      "[14,   400] loss: 1.845\n",
      "[15,   200] loss: 1.353\n",
      "[15,   400] loss: 1.278\n",
      "[16,   200] loss: 1.053\n",
      "[16,   400] loss: 0.880\n",
      "[17,   200] loss: 0.881\n",
      "[17,   400] loss: 0.855\n",
      "[18,   200] loss: 0.806\n",
      "[18,   400] loss: 0.822\n",
      "[19,   200] loss: 0.814\n",
      "[19,   400] loss: 0.787\n",
      "[20,   200] loss: 0.762\n",
      "[20,   400] loss: 0.770\n",
      "[21,   200] loss: 0.768\n",
      "[21,   400] loss: 0.787\n",
      "[22,   200] loss: 0.746\n",
      "[22,   400] loss: 0.766\n",
      "[23,   200] loss: 0.731\n",
      "[23,   400] loss: 0.748\n",
      "[24,   200] loss: 0.744\n",
      "[24,   400] loss: 0.754\n",
      "[25,   200] loss: 0.723\n",
      "[25,   400] loss: 0.776\n",
      "Finished Training\n"
     ]
    }
   ],
   "source": [
    "for epoch in range(25):  # loop over the dataset multiple times\n",
    "\n",
    "    running_loss = 0.0\n",
    "    for i, data in enumerate(train_loader, 0):\n",
    "        inputs, labels = data\n",
    "\n",
    "        optimizer.zero_grad()\n",
    "\n",
    "        outputs = ec(inputs)\n",
    "        loss = criterion(outputs, labels)\n",
    "        loss.backward()\n",
    "        optimizer.step()\n",
    "\n",
    "        running_loss += loss.item()\n",
    "        if i % 200 == 199:\n",
    "            print('[%d, %5d] loss: %.3f' %\n",
    "                  (epoch + 1, i + 1, running_loss / 200))\n",
    "            running_loss = 0.0\n",
    "\n",
    "print('Finished Training')"
   ]
  },
  {
   "cell_type": "code",
   "execution_count": 12,
   "metadata": {},
   "outputs": [
    {
     "name": "stdout",
     "output_type": "stream",
     "text": [
      "Accuracy of the network on the 10000 test images: 78 %\n"
     ]
    }
   ],
   "source": [
    "correct = 0\n",
    "total = 0\n",
    "with torch.no_grad():\n",
    "    for images, labels in test_loader:\n",
    "        outputs = ec(images)\n",
    "        _, predicted = torch.max(outputs.data, 1)\n",
    "        total += labels.size(0)\n",
    "        correct += (predicted == labels).sum().item()\n",
    "\n",
    "print('Accuracy of the network on the 10000 test images: %d %%' % (\n",
    "    100 * correct / total))"
   ]
  },
  {
   "cell_type": "code",
   "execution_count": 14,
   "metadata": {},
   "outputs": [
    {
     "name": "stdout",
     "output_type": "stream",
     "text": [
      "tensor([7, 6, 1, 0, 4, 1, 4, 9, 2, 9, 0, 6, 9, 0, 1, 6, 9, 7, 3, 9, 7, 6, 4, 5,\n",
      "        9, 0, 7, 9, 0, 1, 3, 1, 3, 6, 7, 2, 7, 1, 3, 1, 1, 7, 4, 1, 3, 5, 3, 2,\n",
      "        9, 4, 6, 3, 0, 6, 2, 6, 4, 1, 9, 9, 7, 8, 9, 2, 7, 8, 6, 4, 3, 0, 7, 0,\n",
      "        2, 2, 1, 7, 3, 7, 9, 7, 7, 6, 2, 7, 8, 4, 7, 3, 6, 1, 3, 6, 8, 3, 1, 4,\n",
      "        7, 2, 6, 9, 6, 0, 3, 4, 8, 9, 0, 1, 9, 4, 8, 2, 3, 9, 7, 9, 4, 4, 9, 2,\n",
      "        8, 6, 7, 6, 9, 9, 2, 5])\n"
     ]
    }
   ],
   "source": [
    "examples = enumerate(test_loader)\n",
    "batch_idx, (example_data, example_targets) = next(examples)\n",
    "with torch.no_grad():\n",
    "    outputs = ec(example_data)\n",
    "    _, predicted = torch.max(outputs.data, 1)\n",
    "print(predicted)"
   ]
  },
  {
   "cell_type": "code",
   "execution_count": 15,
   "metadata": {},
   "outputs": [
    {
     "data": {
      "image/png": "[encoded data removed]",
      "text/plain": [
       "<Figure size 432x288 with 50 Axes>"
      ]
     },
     "metadata": {},
     "output_type": "display_data"
    }
   ],
   "source": [
    "# see images and their labels\n",
    "fig = plt.figure()\n",
    "for i in range(50):\n",
    "    plt.subplot(5, 10, i+1)\n",
    "    plt.imshow(example_data[i][0], cmap='gray', interpolation='none')\n",
    "    plt.title(\"%d\" % predicted[i])\n",
    "    plt.xticks([])\n",
    "    plt.yticks([])"
   ]
  },
  {
   "cell_type": "code",
   "execution_count": 16,
   "metadata": {},
   "outputs": [],
   "source": [
    "# if you would like to write some notes, save it as a string and pass it to the 'message' parameter of save_model\n",
    "# if you don't set message to None\n",
    "message = '''This used the encoder from 1558553790.\n",
    "with 25 epochs it managed to get 78% accuracy.'''"
   ]
  },
  {
   "cell_type": "code",
   "execution_count": 17,
   "metadata": {},
   "outputs": [
    {
     "name": "stdout",
     "output_type": "stream",
     "text": [
      "everything was saved to ./encoderclassifier_models/1558584538\n"
     ]
    }
   ],
   "source": [
    "save_model(ec, message=message)"
   ]
  }
 ],
 "metadata": {
  "kernelspec": {
   "display_name": "Python3 (CS269Q)",
   "language": "python",
   "name": "cs269q"
  },
  "language_info": {
   "codemirror_mode": {
    "name": "ipython",
    "version": 3
   },
   "file_extension": ".py",
   "mimetype": "text/x-python",
   "name": "python",
   "nbconvert_exporter": "python",
   "pygments_lexer": "ipython3",
   "version": "3.7.3"
  }
 },
 "nbformat": 4,
 "nbformat_minor": 2
}
