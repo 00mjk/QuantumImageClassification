{
 "cells": [
  {
   "cell_type": "code",
   "execution_count": 12,
   "metadata": {},
   "outputs": [],
   "source": [
    "import os\n",
    "import time\n",
    "import torch\n",
    "import torch.optim as optim\n",
    "import torch.nn as nn\n",
    "import matplotlib.pyplot as plt\n",
    "from torchsummary import summary\n",
    "from MNISTData import MNISTData\n",
    "from AutoEncoder import AutoEncoder\n",
    "from EncoderClassifier import EncoderClassifier"
   ]
  },
  {
   "cell_type": "code",
   "execution_count": 2,
   "metadata": {},
   "outputs": [],
   "source": [
    "data = MNISTData()\n",
    "train_loader = data.get_train_loader()\n",
    "test_loader = data.get_test_loader()"
   ]
  },
  {
   "cell_type": "code",
   "execution_count": 3,
   "metadata": {},
   "outputs": [],
   "source": [
    "load_from = \"./autoencoder_models/1558553790/ae.pt\""
   ]
  },
  {
   "cell_type": "code",
   "execution_count": 4,
   "metadata": {},
   "outputs": [
    {
     "data": {
      "text/plain": [
       "IncompatibleKeys(missing_keys=[], unexpected_keys=[])"
      ]
     },
     "execution_count": 4,
     "metadata": {},
     "output_type": "execute_result"
    }
   ],
   "source": [
    "ae = AutoEncoder()\n",
    "ae.load_state_dict(torch.load(load_from))"
   ]
  },
  {
   "cell_type": "code",
   "execution_count": 5,
   "metadata": {},
   "outputs": [
    {
     "name": "stdout",
     "output_type": "stream",
     "text": [
      "----------------------------------------------------------------\n",
      "        Layer (type)               Output Shape         Param #\n",
      "================================================================\n",
      "            Linear-1                  [-1, 256]         200,960\n",
      "              ReLU-2                  [-1, 256]               0\n",
      "            Linear-3                   [-1, 64]          16,448\n",
      "              ReLU-4                   [-1, 64]               0\n",
      "            Linear-5                   [-1, 16]           1,040\n",
      "              ReLU-6                   [-1, 16]               0\n",
      "            Linear-7                   [-1, 64]           1,088\n",
      "              ReLU-8                   [-1, 64]               0\n",
      "            Linear-9                  [-1, 256]          16,640\n",
      "             ReLU-10                  [-1, 256]               0\n",
      "           Linear-11                  [-1, 784]         201,488\n",
      "          Sigmoid-12                  [-1, 784]               0\n",
      "================================================================\n",
      "Total params: 437,664\n",
      "Trainable params: 437,664\n",
      "Non-trainable params: 0\n",
      "----------------------------------------------------------------\n",
      "Input size (MB): 0.00\n",
      "Forward/backward pass size (MB): 0.02\n",
      "Params size (MB): 1.67\n",
      "Estimated Total Size (MB): 1.69\n",
      "----------------------------------------------------------------\n"
     ]
    }
   ],
   "source": [
    "summary(ae, input_size=(1, 28, 28))"
   ]
  },
  {
   "cell_type": "code",
   "execution_count": 6,
   "metadata": {},
   "outputs": [
    {
     "name": "stdout",
     "output_type": "stream",
     "text": [
      "----------------------------------------------------------------\n",
      "        Layer (type)               Output Shape         Param #\n",
      "================================================================\n",
      "            Linear-1            [-1, 1, 1, 256]         200,960\n",
      "              ReLU-2            [-1, 1, 1, 256]               0\n",
      "            Linear-3             [-1, 1, 1, 64]          16,448\n",
      "              ReLU-4             [-1, 1, 1, 64]               0\n",
      "            Linear-5             [-1, 1, 1, 16]           1,040\n",
      "              ReLU-6             [-1, 1, 1, 16]               0\n",
      "================================================================\n",
      "Total params: 218,448\n",
      "Trainable params: 218,448\n",
      "Non-trainable params: 0\n",
      "----------------------------------------------------------------\n",
      "Input size (MB): 0.00\n",
      "Forward/backward pass size (MB): 0.01\n",
      "Params size (MB): 0.83\n",
      "Estimated Total Size (MB): 0.84\n",
      "----------------------------------------------------------------\n"
     ]
    }
   ],
   "source": [
    "encoder = ae.encoder\n",
    "summary(encoder, input_size=(1, 1, 784))"
   ]
  },
  {
   "cell_type": "code",
   "execution_count": 10,
   "metadata": {},
   "outputs": [
    {
     "name": "stdout",
     "output_type": "stream",
     "text": [
      "----------------------------------------------------------------\n",
      "        Layer (type)               Output Shape         Param #\n",
      "================================================================\n",
      "            Linear-1                  [-1, 256]         200,960\n",
      "              ReLU-2                  [-1, 256]               0\n",
      "            Linear-3                   [-1, 64]          16,448\n",
      "              ReLU-4                   [-1, 64]               0\n",
      "            Linear-5                   [-1, 16]           1,040\n",
      "              ReLU-6                   [-1, 16]               0\n",
      "            Linear-7                 [-1, 1000]          17,000\n",
      "           Dropout-8                 [-1, 1000]               0\n",
      "            Linear-9                   [-1, 10]          10,010\n",
      "================================================================\n",
      "Total params: 245,458\n",
      "Trainable params: 27,010\n",
      "Non-trainable params: 218,448\n",
      "----------------------------------------------------------------\n",
      "Input size (MB): 0.00\n",
      "Forward/backward pass size (MB): 0.02\n",
      "Params size (MB): 0.94\n",
      "Estimated Total Size (MB): 0.96\n",
      "----------------------------------------------------------------\n"
     ]
    }
   ],
   "source": [
    "ec = EncoderClassifier(encoder)\n",
    "summary(ec, input_size=(1, 28, 28))"
   ]
  },
  {
   "cell_type": "code",
   "execution_count": 13,
   "metadata": {},
   "outputs": [],
   "source": [
    "criterion = nn.CrossEntropyLoss()\n",
    "optimizer = optim.SGD(ec.parameters(), lr=.01, momentum=.9)"
   ]
  },
  {
   "cell_type": "code",
   "execution_count": 15,
   "metadata": {},
   "outputs": [
    {
     "name": "stdout",
     "output_type": "stream",
     "text": [
      "[1,   200] loss: 17.716\n",
      "[1,   400] loss: 16.729\n",
      "[2,   200] loss: 14.467\n",
      "[2,   400] loss: 14.372\n",
      "[3,   200] loss: 14.653\n",
      "[3,   400] loss: 15.576\n",
      "[4,   200] loss: 14.750\n",
      "[4,   400] loss: 12.711\n",
      "[5,   200] loss: 12.234\n",
      "[5,   400] loss: 11.892\n",
      "[6,   200] loss: 12.112\n",
      "[6,   400] loss: 10.221\n",
      "[7,   200] loss: 9.562\n",
      "[7,   400] loss: 7.831\n",
      "[8,   200] loss: 6.811\n",
      "[8,   400] loss: 6.507\n",
      "[9,   200] loss: 5.405\n",
      "[9,   400] loss: 4.271\n",
      "[10,   200] loss: 3.663\n",
      "[10,   400] loss: 3.246\n",
      "[11,   200] loss: 2.479\n",
      "[11,   400] loss: 2.162\n",
      "[12,   200] loss: 1.574\n",
      "[12,   400] loss: 1.234\n",
      "[13,   200] loss: 1.084\n",
      "[13,   400] loss: 0.990\n",
      "[14,   200] loss: 0.885\n",
      "[14,   400] loss: 0.823\n",
      "[15,   200] loss: 0.822\n",
      "[15,   400] loss: 0.764\n",
      "[16,   200] loss: 0.774\n",
      "[16,   400] loss: 0.793\n",
      "[17,   200] loss: 0.765\n",
      "[17,   400] loss: 0.728\n",
      "[18,   200] loss: 0.744\n",
      "[18,   400] loss: 0.761\n",
      "[19,   200] loss: 0.761\n",
      "[19,   400] loss: 0.747\n",
      "[20,   200] loss: 0.743\n",
      "[20,   400] loss: 0.772\n",
      "[21,   200] loss: 0.735\n",
      "[21,   400] loss: 0.758\n",
      "[22,   200] loss: 0.771\n",
      "[22,   400] loss: 0.764\n",
      "[23,   200] loss: 0.749\n",
      "[23,   400] loss: 0.733\n",
      "[24,   200] loss: 0.768\n",
      "[24,   400] loss: 0.772\n",
      "[25,   200] loss: 0.733\n",
      "[25,   400] loss: 0.737\n",
      "Finished Training\n"
     ]
    }
   ],
   "source": [
    "for epoch in range(25):  # loop over the dataset multiple times\n",
    "\n",
    "    running_loss = 0.0\n",
    "    for i, data in enumerate(train_loader, 0):\n",
    "        inputs, labels = data\n",
    "\n",
    "        optimizer.zero_grad()\n",
    "\n",
    "        outputs = ec(inputs)\n",
    "        loss = criterion(outputs, labels)\n",
    "        loss.backward()\n",
    "        optimizer.step()\n",
    "\n",
    "        running_loss += loss.item()\n",
    "        if i % 200 == 199:\n",
    "            print('[%d, %5d] loss: %.3f' %\n",
    "                  (epoch + 1, i + 1, running_loss / 200))\n",
    "            running_loss = 0.0\n",
    "\n",
    "print('Finished Training')"
   ]
  },
  {
   "cell_type": "code",
   "execution_count": 17,
   "metadata": {},
   "outputs": [
    {
     "name": "stdout",
     "output_type": "stream",
     "text": [
      "Accuracy of the network on the 10000 test images: 81 %\n"
     ]
    }
   ],
   "source": [
    "correct = 0\n",
    "total = 0\n",
    "with torch.no_grad():\n",
    "    for images, labels in test_loader:\n",
    "        outputs = ec(images)\n",
    "        _, predicted = torch.max(outputs.data, 1)\n",
    "        total += labels.size(0)\n",
    "        correct += (predicted == labels).sum().item()\n",
    "\n",
    "print('Accuracy of the network on the 10000 test images: %d %%' % (\n",
    "    100 * correct / total))"
   ]
  }
 ],
 "metadata": {
  "kernelspec": {
   "display_name": "Python3 (CS269Q)",
   "language": "python",
   "name": "cs269q"
  },
  "language_info": {
   "codemirror_mode": {
    "name": "ipython",
    "version": 3
   },
   "file_extension": ".py",
   "mimetype": "text/x-python",
   "name": "python",
   "nbconvert_exporter": "python",
   "pygments_lexer": "ipython3",
   "version": "3.7.3"
  }
 },
 "nbformat": 4,
 "nbformat_minor": 2
}
