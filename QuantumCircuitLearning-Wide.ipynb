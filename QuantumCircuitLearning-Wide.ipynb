{
 "cells": [
  {
   "cell_type": "markdown",
   "metadata": {},
   "source": [
    "# Wide Quantum Circuit Learning"
   ]
  },
  {
   "cell_type": "code",
   "execution_count": 1,
   "metadata": {
    "scrolled": true
   },
   "outputs": [],
   "source": [
    "import pennylane as qml\n",
    "from pennylane import numpy as np\n",
    "import pennylane.optimize"
   ]
  },
  {
   "cell_type": "code",
   "execution_count": 2,
   "metadata": {
    "scrolled": true
   },
   "outputs": [],
   "source": [
    "import os\n",
    "import time\n",
    "import random\n",
    "import pickle\n",
    "import matplotlib.pyplot as plt\n",
    "import torch\n",
    "import torch.nn as nn\n",
    "import torch.optim as optim\n",
    "from torch.autograd import Variable\n",
    "from torchsummary import summary"
   ]
  },
  {
   "cell_type": "code",
   "execution_count": 3,
   "metadata": {},
   "outputs": [],
   "source": [
    "from tqdm import tqdm\n",
    "from MNISTData import MNISTData\n",
    "from AutoEncoder import AutoEncoder"
   ]
  },
  {
   "cell_type": "code",
   "execution_count": 24,
   "metadata": {},
   "outputs": [],
   "source": [
    "ENCODING_SIZE = 10\n",
    "NUM_QUBITS =4\n",
    "NUM_CLASSES= 10\n",
    "# NUM_LAYERS specifies how many times the circuit is run over the qubit wires.\n",
    "# Should increase runtime by a factor of NUM_LAYERS.\n",
    "NUM_LAYERS = 3"
   ]
  },
  {
   "cell_type": "code",
   "execution_count": 5,
   "metadata": {
    "scrolled": true
   },
   "outputs": [],
   "source": [
    "dev = qml.device(\"forest.qvm\", device=\"{}q-pyqvm\".format(NUM_QUBITS), shots=1000)"
   ]
  },
  {
   "cell_type": "code",
   "execution_count": 25,
   "metadata": {},
   "outputs": [],
   "source": [
    "from pennylane.ops import RX, RY, CNOT\n",
    "\n",
    "# x will be a length ENCODING_SIZE vector that represents\n",
    "# the encoding of a MNIST image\n",
    "# thetas is of size 2 * NUM_QUBITS\n",
    "@qml.qnode(dev)\n",
    "def circuit(x, thetas):\n",
    "    for i in range(ENCODING_SIZE):\n",
    "        RX(x[i], wires=i)\n",
    "    for j in range(NUM_LAYERS):\n",
    "        for i in range(NUM_QUBITS - 1):\n",
    "            CNOT(wires=[i, i+1])\n",
    "        for i in range(NUM_QUBITS):\n",
    "            RX(thetas[j][i], wires=i)\n",
    "        for i in range(NUM_QUBITS, 2 * NUM_QUBITS):\n",
    "            RY(thetas[j][i], wires=(i - NUM_QUBITS))\n",
    "    return tuple(qml.expval.PauliZ(wires=i) for i in range(NUM_QUBITS))\n",
    "\n",
    "\n",
    "#params: x - input x\n",
    "#        mask - mapping from range(ENCODING SIZE) to range(4)\n",
    "#        thetas - learned parameters\n",
    "#NOTE: Written for NUM_QUBITS = 4\n",
    "@qml.qnode(dev)\n",
    "def circuit_tighten(x, mask, thetas):\n",
    "    for i in range(ENCODING_SIZE):\n",
    "            if i // NUM_QUBITS % 2 == 0: \n",
    "                RX(x[i], wires=i//NUM_QUBITS)\n",
    "            else:\n",
    "                RY(x[i], wires=i//NUM_QUBITS)\n",
    "    for j in range(NUM_LAYERS):\n",
    "        CNOT(wires=[0, 1])\n",
    "        CNOT(wires=[1, 3])\n",
    "        CNOT(wires=[0, 2])\n",
    "        for i in range(NUM_QUBITS):\n",
    "            RX(thetas[j][i], wires=i)\n",
    "        for i in range(NUM_QUBITS, 2 * NUM_QUBITS):\n",
    "            RY(thetas[j][i], wires=(i - NUM_QUBITS))\n",
    "    return [qml.expval.PauliZ(wires=i) for i in range(NUM_QUBITS)]\n",
    "\n",
    "def get_mask():\n",
    "    sub_masks = []\n",
    "    for i in range(ENCODING_SIZE//NUM_QUBITS + 1):\n",
    "        sub_masks.append(np.random.permutation(NUM_QUBITS))\n",
    "    res = np.concatenate(sub_masks).flatten()\n",
    "    return res.tolist()"
   ]
  },
  {
   "cell_type": "code",
   "execution_count": 26,
   "metadata": {},
   "outputs": [
    {
     "name": "stdout",
     "output_type": "stream",
     "text": [
      "-0.297\n"
     ]
    }
   ],
   "source": [
    "# example input\n",
    "MASK = get_mask()\n",
    "print(np.mean(circuit_tighten([np.pi/5]*(ENCODING_SIZE), MASK, [[np.pi]*(2 * NUM_QUBITS)]*NUM_LAYERS)))"
   ]
  },
  {
   "cell_type": "code",
   "execution_count": 27,
   "metadata": {},
   "outputs": [],
   "source": [
    "# NOTE: EDITED COST FUNCTION to use bias, and to prevent bias from gaming\n",
    "#       the cost function.\n",
    "def cost(X, actual_labels, thetas, bias):\n",
    "    b = X.shape[0]\n",
    "    yhats = []\n",
    "    for i in range(b):\n",
    "        scores = []\n",
    "        for j in range(NUM_CLASSES):\n",
    "            scores.append(np.mean(circuit_tighten(X[i], MASK, thetas[j]) + bias[j]))\n",
    "        yhats.append(scores)\n",
    "    st = np.stack(yhats)\n",
    "    actual_class_vals = st[range(b), actual_labels]\n",
    "    shifted = st - np.max(st, axis=1)[:, np.newaxis]\n",
    "    the_sum = np.log(np.sum(np.exp(shifted), axis=1)) \n",
    "    # Return loss + regularization term on bias\n",
    "    return np.mean(-actual_class_vals + the_sum + np.max(st, axis=1))"
   ]
  },
  {
   "cell_type": "markdown",
   "metadata": {},
   "source": [
    "At this point, we have to get our (encoded) images so that we may actually start training"
   ]
  },
  {
   "cell_type": "code",
   "execution_count": 28,
   "metadata": {},
   "outputs": [],
   "source": [
    "data = MNISTData(batch_size=16)\n",
    "train_loader = data.get_train_loader()\n",
    "test_loader = data.get_test_loader()"
   ]
  },
  {
   "cell_type": "code",
   "execution_count": 29,
   "metadata": {},
   "outputs": [],
   "source": [
    "load_from_stem = \"./autoencoder_models/1558731906/\"\n",
    "load_model_from = os.path.join(load_from_stem, \"ae.pt\")\n",
    "load_layers_from = os.path.join(load_from_stem, \"layer_sizes.pkl\")"
   ]
  },
  {
   "cell_type": "code",
   "execution_count": 30,
   "metadata": {},
   "outputs": [],
   "source": [
    "with open(load_layers_from, 'rb') as f:\n",
    "    layer_sizes = pickle.load(f)\n",
    "layer_sizes = layer_sizes[1:]\n",
    "ae = AutoEncoder(layer_sizes)\n",
    "ae.load_state_dict(torch.load(load_model_from))\n",
    "encoder = ae.encoder\n",
    "for child in encoder.children():\n",
    "    for param in child.parameters():\n",
    "        param.requires_grad = False"
   ]
  },
  {
   "cell_type": "code",
   "execution_count": 31,
   "metadata": {},
   "outputs": [
    {
     "name": "stdout",
     "output_type": "stream",
     "text": [
      "----------------------------------------------------------------\n",
      "        Layer (type)               Output Shape         Param #\n",
      "================================================================\n",
      "            Linear-1                  [-1, 256]         200,960\n",
      "              ReLU-2                  [-1, 256]               0\n",
      "            Linear-3                   [-1, 64]          16,448\n",
      "              ReLU-4                   [-1, 64]               0\n",
      "            Linear-5                   [-1, 10]             650\n",
      "              ReLU-6                   [-1, 10]               0\n",
      "================================================================\n",
      "Total params: 218,058\n",
      "Trainable params: 0\n",
      "Non-trainable params: 218,058\n",
      "----------------------------------------------------------------\n",
      "Input size (MB): 0.00\n",
      "Forward/backward pass size (MB): 0.01\n",
      "Params size (MB): 0.83\n",
      "Estimated Total Size (MB): 0.84\n",
      "----------------------------------------------------------------\n"
     ]
    }
   ],
   "source": [
    "summary(encoder, input_size=(28 * 28,))"
   ]
  },
  {
   "cell_type": "code",
   "execution_count": 32,
   "metadata": {
    "scrolled": true
   },
   "outputs": [
    {
     "name": "stdout",
     "output_type": "stream",
     "text": [
      "[[[-1.20731023e-01  4.07285284e-02 -8.85442556e-02  9.01983678e-02\n",
      "    1.61555479e-02 -7.74203616e-02  1.51146497e-03  1.10626695e-01]\n",
      "  [-6.48990049e-02  9.82117370e-02 -9.84735243e-02  5.55810415e-02\n",
      "    6.30929809e-02 -4.43116292e-02 -9.04400335e-02  4.06742645e-02]\n",
      "  [-2.70905264e-02  9.07893037e-03 -5.08690325e-02  1.00358175e-01\n",
      "   -9.79922864e-02 -7.75361825e-02 -8.85173476e-03 -1.01032775e-01]]\n",
      "\n",
      " [[ 3.02127870e-02 -6.36115496e-02 -7.84776500e-02 -2.77604513e-02\n",
      "   -5.08873039e-03 -2.11696498e-02  6.06756856e-02 -1.35673693e-01]\n",
      "  [ 2.13402686e-01 -1.19285767e-01 -2.66993267e-01 -1.94103844e-02\n",
      "   -9.66617512e-02 -1.10677307e-01  4.86831790e-02  1.18458171e-01]\n",
      "  [ 7.31610204e-02  5.49648653e-02 -9.20878936e-02 -7.87728023e-02\n",
      "    1.99760946e-02 -1.15589750e-02 -1.26104644e-01  1.72864632e-01]]\n",
      "\n",
      " [[-1.10078874e-01  1.41639454e-02  1.15211214e-01  1.33423522e-01\n",
      "   -3.78850125e-02  8.34844954e-02 -1.14638011e-02 -6.94581044e-02]\n",
      "  [ 9.34275784e-02  1.14839364e-01  1.11205216e-01  8.49598092e-05\n",
      "    5.18442863e-02 -3.48139022e-02  1.51125735e-02  3.27460639e-02]\n",
      "  [ 3.77361362e-02  4.24657659e-02  2.98722372e-02 -6.01990709e-02\n",
      "    1.80437219e-01 -6.41346642e-02  1.38542216e-02 -2.87917109e-02]]\n",
      "\n",
      " [[-9.51501189e-02  1.11850688e-01  2.20075607e-01  2.25011266e-02\n",
      "   -6.97289341e-02  1.09898786e-02  1.59918978e-01 -1.89539223e-02]\n",
      "  [-6.27647074e-02  1.41764801e-02  1.13151692e-01  3.80074186e-03\n",
      "    1.71586861e-01  9.74217546e-02  7.85586815e-03 -3.50194770e-02]\n",
      "  [-3.58791620e-02  1.78992559e-02  6.57070207e-02 -8.09300663e-02\n",
      "   -9.15665418e-02  2.55584708e-02 -8.16711118e-02 -2.17859224e-01]]\n",
      "\n",
      " [[ 2.17218339e-01  8.25026207e-02 -1.67132856e-01  1.05147478e-01\n",
      "   -1.19432082e-01  8.10824092e-02 -1.30510594e-01 -4.89431221e-03]\n",
      "  [-1.94735617e-01  3.03505367e-03  2.46431880e-02  3.56514362e-02\n",
      "    8.50861221e-02 -8.96647789e-02  1.26111475e-01  8.28930736e-03]\n",
      "  [ 4.92381397e-02  4.41255465e-02  8.18614452e-02  3.92341581e-02\n",
      "    1.17318097e-01  1.39331386e-01 -1.63342166e-01 -1.03969648e-01]]\n",
      "\n",
      " [[-1.32071044e-02  1.08824870e-01  5.30986168e-02  6.56728721e-02\n",
      "    1.12154818e-01  2.69912191e-02  1.24034377e-02 -3.13689771e-02]\n",
      "  [ 7.51095369e-02 -7.52598668e-02 -1.57190023e-01  2.79081002e-01\n",
      "   -1.16162702e-01 -1.24706844e-01 -9.83320801e-02 -9.88169684e-02]\n",
      "  [-8.38737180e-02  2.02506445e-01  3.30519113e-02 -3.69706694e-02\n",
      "   -6.09037967e-02 -4.77042030e-02  1.23916768e-01  4.92953586e-02]]\n",
      "\n",
      " [[ 3.50031590e-02 -9.83750207e-02  3.81806764e-03  3.15494253e-03\n",
      "   -5.21916884e-02  5.70574654e-02 -7.05472214e-02 -1.17991665e-02]\n",
      "  [ 1.87885655e-01 -1.62303085e-02  3.35816495e-02  1.46430582e-01\n",
      "    1.59632583e-01 -1.67552862e-02 -2.36085184e-02  1.47738525e-01]\n",
      "  [ 2.46304571e-02  7.21055067e-03  1.05566998e-01 -4.83236973e-03\n",
      "    3.75668547e-02  2.60047671e-01  1.13743781e-02 -4.20771598e-02]]\n",
      "\n",
      " [[ 1.76282855e-02  1.72990949e-02 -2.97809825e-02  7.89207589e-02\n",
      "    2.19288018e-02  1.85555038e-02 -7.66267491e-02  2.35491135e-02]\n",
      "  [ 6.81711765e-02  1.51735431e-01  7.98666478e-02 -1.58755394e-02\n",
      "    1.74478407e-02 -3.33130207e-02 -1.01970461e-01 -9.85598337e-03]\n",
      "  [-9.76059252e-02 -3.89760706e-02 -2.79929434e-02  1.89075563e-01\n",
      "   -5.79713614e-02 -9.29121689e-02 -2.99965610e-02  5.51658162e-02]]\n",
      "\n",
      " [[-2.85573699e-02 -1.79108287e-01  2.15355093e-01 -9.08544930e-02\n",
      "    2.01570438e-03  1.85339026e-02 -4.29654506e-02  2.38988216e-02]\n",
      "  [ 1.01141914e-01  1.49941874e-01  5.76397163e-02  2.89111388e-02\n",
      "   -1.71667360e-02  1.29594727e-01  1.32588454e-01  9.97415493e-02]\n",
      "  [ 4.61529837e-02  6.05210105e-02 -7.36189071e-03 -1.42584551e-01\n",
      "    7.65511533e-02  2.14224871e-01 -3.42810342e-02 -3.75258839e-02]]\n",
      "\n",
      " [[-1.34711909e-01  1.10384663e-02  1.12639820e-02 -1.43446478e-02\n",
      "    9.07830797e-03  1.45019955e-01 -9.16219508e-02  2.47020140e-02]\n",
      "  [-2.38462546e-02  8.36226698e-02 -1.20211643e-01 -1.51816968e-02\n",
      "    1.40979784e-01  6.32186779e-02  1.32097929e-01  3.81086298e-02]\n",
      "  [-1.12002282e-01  3.95608993e-02  2.22538723e-01  2.20231547e-01\n",
      "   -4.01969105e-02 -5.94514272e-02 -4.54841589e-02  9.71838902e-02]]]\n",
      "float64\n",
      "[0. 0. 0. 0. 0. 0. 0. 0. 0. 0.]\n"
     ]
    }
   ],
   "source": [
    "thetas = 1/ENCODING_SIZE*np.random.randn(2 * NUM_QUBITS*NUM_LAYERS*NUM_CLASSES)\n",
    "bias = np.zeros(NUM_CLASSES)\n",
    "thetas = thetas.reshape(NUM_CLASSES, NUM_LAYERS, 2*NUM_QUBITS)\n",
    "init_thetas = thetas.copy()\n",
    "init_bias = bias.copy()\n",
    "print(thetas)\n",
    "print(thetas.dtype)\n",
    "print(bias)"
   ]
  },
  {
   "cell_type": "code",
   "execution_count": 33,
   "metadata": {
    "scrolled": true
   },
   "outputs": [
    {
     "name": "stdout",
     "output_type": "stream",
     "text": [
      "torch.Size([16, 1, 28, 28])\n",
      "16\n",
      "tensor([[25.0548,  2.5514,  0.0000, 14.5513, 36.4181, 24.0503, 15.0945, 17.0040,\n",
      "         10.1558,  0.0000]])\n",
      "torch.Size([1, 10])\n",
      "[-0.214 -0.066  0.228 -0.206]\n"
     ]
    }
   ],
   "source": [
    "# this is the transformation that you need to do in order\n",
    "# to pass it to the encoder. it is (1, -1) since the first number\n",
    "# is the batch size, which in our case is 1\n",
    "enums = enumerate(train_loader, 0)\n",
    "i, data = next(enums)\n",
    "inputs, labels = data\n",
    "print(inputs.size())\n",
    "print(len(labels))\n",
    "print(encoder(inputs[0].view(1, -1)))\n",
    "print(encoder(inputs[0].view(1, -1)).size())\n",
    "print(circuit_tighten(inputs[0].view(1, -1).numpy(), MASK, thetas[0]))"
   ]
  },
  {
   "cell_type": "code",
   "execution_count": 34,
   "metadata": {
    "scrolled": true
   },
   "outputs": [
    {
     "name": "stdout",
     "output_type": "stream",
     "text": [
      "torch.Size([16, 10])\n",
      "torch.Size([16])\n",
      "(10, 3, 8)\n",
      "45.53022265434265\n"
     ]
    }
   ],
   "source": [
    "# Using normal qml.grad\n",
    "X = encoder(inputs.view(len(labels), -1))\n",
    "print(X.size())\n",
    "print(labels.size())\n",
    "print(thetas.shape)\n",
    "start = time.time()\n",
    "dcost = qml.grad(cost, argnum=[2, 3])\n",
    "theta_grad, bias_grad = dcost(X.numpy(), labels.numpy(), thetas, bias) \n",
    "print(time.time() - start)"
   ]
  },
  {
   "cell_type": "code",
   "execution_count": 35,
   "metadata": {},
   "outputs": [
    {
     "name": "stdout",
     "output_type": "stream",
     "text": [
      "[3, 1, 1, 1, 1, 9, 3, 1, 2, 0, 5, 8, 3, 3, 1, 9]\n",
      "[3, 1, 4, 1, 1, 9, 2, 1, 3, 3, 3, 3, 1, 4, 8, 3]\n"
     ]
    },
    {
     "data": {
      "text/plain": [
       "0.0625"
      ]
     },
     "execution_count": 35,
     "metadata": {},
     "output_type": "execute_result"
    }
   ],
   "source": [
    "def accuracy(thetas, bias, number_batches=2):\n",
    "    correct = 0\n",
    "    total = 0\n",
    "    for i, data in enumerate(test_loader, 0):\n",
    "        if i == number_batches:\n",
    "            break\n",
    "        inputs, labels = data\n",
    "        inputs = encoder(inputs.view(len(labels), -1)).numpy()\n",
    "        predicted = []\n",
    "        for image in inputs:\n",
    "            scores = []\n",
    "            for i in range(NUM_CLASSES):\n",
    "                scores.append(np.mean(circuit_tighten(image, MASK, thetas[i]) + bias[i]))\n",
    "            predicted.append(np.argmax(scores))\n",
    "        correct += (np.asarray(predicted) == labels.numpy()).sum()\n",
    "        total += len(predicted)\n",
    "        print(predicted)\n",
    "    return(correct / total)\n",
    "# have done no training, so should be around 10%\n",
    "accuracy(thetas, bias)"
   ]
  },
  {
   "cell_type": "code",
   "execution_count": 36,
   "metadata": {},
   "outputs": [
    {
     "name": "stdout",
     "output_type": "stream",
     "text": [
      "tensor([7, 1, 1, 6, 0, 5, 7, 4, 2, 5, 2, 1, 6, 9, 2, 6])\n",
      "[4, 0, 4, 0, 9, 9, 9, 4, 0, 0, 0, 9, 9, 2, 4, 9]\n",
      "[9, 0, 4, 0, 4, 4, 4, 0, 4, 9, 9, 9, 4, 0, 9, 4]\n",
      "1 batches took 47.400188 seconds and has accuracy 0.156250, with train loss 2.304617\n",
      "tensor([0, 9, 0, 6, 9, 2, 8, 2, 0, 4, 6, 4, 7, 9, 4, 5])\n",
      "[0, 0, 0, 0, 0, 0, 6, 0, 0, 0, 0, 6, 0, 6, 0, 0]\n",
      "[6, 0, 0, 0, 0, 0, 0, 0, 0, 0, 0, 0, 0, 0, 6, 0]\n",
      "2 batches took 93.981563 seconds and has accuracy 0.156250, with train loss 2.312011\n",
      "tensor([3, 6, 5, 4, 1, 6, 1, 2, 8, 0, 5, 3, 6, 1, 0, 0])\n",
      "[0, 0, 0, 0, 0, 0, 0, 0, 0, 0, 0, 0, 0, 0, 0, 0]\n",
      "[0, 0, 0, 0, 0, 0, 0, 0, 0, 0, 0, 0, 0, 0, 6, 0]\n",
      "1 batches took 140.756434 seconds and has accuracy 0.156250, with train loss 2.268433\n",
      "tensor([0, 9, 0, 6, 9, 2, 8, 2, 0, 4, 6, 4, 7, 9, 4, 5])\n",
      "[0, 0, 0, 0, 0, 0, 0, 0, 0, 0, 0, 0, 0, 0, 0, 0]\n",
      "[0, 0, 0, 0, 0, 0, 0, 0, 0, 0, 0, 0, 0, 0, 0, 0]\n",
      "2 batches took 188.572499 seconds and has accuracy 0.156250, with train loss 2.276826\n",
      "tensor([3, 6, 5, 4, 1, 6, 1, 2, 8, 0, 5, 3, 6, 1, 0, 0])\n",
      "[0, 0, 0, 0, 0, 0, 0, 0, 0, 0, 0, 0, 0, 0, 0, 0]\n",
      "[0, 0, 0, 0, 0, 0, 0, 0, 0, 0, 0, 0, 0, 0, 0, 0]\n",
      "1 batches took 235.277568 seconds and has accuracy 0.156250, with train loss 2.249479\n",
      "tensor([0, 9, 0, 6, 9, 2, 8, 2, 0, 4, 6, 4, 7, 9, 4, 5])\n",
      "[0, 0, 0, 0, 0, 0, 0, 0, 0, 0, 0, 0, 0, 0, 0, 0]\n",
      "[0, 0, 0, 0, 0, 0, 0, 0, 0, 0, 0, 0, 0, 0, 0, 0]\n",
      "2 batches took 281.701366 seconds and has accuracy 0.156250, with train loss 2.247599\n",
      "tensor([3, 6, 5, 4, 1, 6, 1, 2, 8, 0, 5, 3, 6, 1, 0, 0])\n",
      "[0, 0, 0, 0, 0, 0, 0, 0, 0, 0, 0, 0, 0, 0, 0, 0]\n",
      "[0, 0, 0, 0, 0, 0, 0, 0, 0, 0, 0, 0, 0, 0, 0, 0]\n",
      "1 batches took 327.606529 seconds and has accuracy 0.156250, with train loss 2.228910\n",
      "tensor([0, 9, 0, 6, 9, 2, 8, 2, 0, 4, 6, 4, 7, 9, 4, 5])\n",
      "[0, 0, 0, 0, 0, 0, 0, 0, 0, 0, 0, 0, 0, 0, 0, 0]\n",
      "[0, 0, 0, 0, 0, 0, 0, 0, 0, 0, 0, 0, 0, 0, 0, 0]\n",
      "2 batches took 374.365434 seconds and has accuracy 0.156250, with train loss 2.234857\n",
      "tensor([3, 6, 5, 4, 1, 6, 1, 2, 8, 0, 5, 3, 6, 1, 0, 0])\n",
      "[0, 0, 0, 0, 0, 0, 0, 0, 0, 0, 0, 0, 0, 0, 0, 0]\n",
      "[0, 0, 0, 0, 0, 0, 0, 0, 0, 0, 0, 0, 0, 0, 0, 0]\n",
      "1 batches took 426.124955 seconds and has accuracy 0.156250, with train loss 2.217731\n",
      "tensor([0, 9, 0, 6, 9, 2, 8, 2, 0, 4, 6, 4, 7, 9, 4, 5])\n",
      "[0, 0, 0, 0, 0, 0, 0, 0, 0, 0, 0, 0, 0, 0, 0, 0]\n",
      "[0, 0, 0, 0, 0, 0, 0, 0, 0, 0, 0, 0, 0, 0, 0, 0]\n",
      "2 batches took 479.805338 seconds and has accuracy 0.156250, with train loss 2.227267\n",
      "tensor([3, 6, 5, 4, 1, 6, 1, 2, 8, 0, 5, 3, 6, 1, 0, 0])\n",
      "[0, 0, 0, 0, 0, 0, 0, 0, 0, 0, 0, 0, 0, 0, 0, 0]\n",
      "[0, 0, 0, 0, 0, 0, 0, 0, 0, 0, 0, 0, 0, 0, 0, 0]\n",
      "1 batches took 529.818197 seconds and has accuracy 0.156250, with train loss 2.209482\n",
      "tensor([0, 9, 0, 6, 9, 2, 8, 2, 0, 4, 6, 4, 7, 9, 4, 5])\n",
      "[0, 0, 0, 0, 0, 0, 0, 0, 0, 0, 0, 0, 0, 0, 0, 0]\n",
      "[0, 0, 0, 0, 0, 0, 0, 0, 0, 0, 0, 0, 0, 0, 0, 0]\n",
      "2 batches took 577.662226 seconds and has accuracy 0.156250, with train loss 2.206693\n",
      "tensor([3, 6, 5, 4, 1, 6, 1, 2, 8, 0, 5, 3, 6, 1, 0, 0])\n",
      "[0, 0, 0, 0, 0, 0, 0, 0, 0, 0, 0, 0, 0, 0, 0, 0]\n",
      "[0, 0, 0, 0, 0, 0, 0, 0, 0, 0, 0, 0, 0, 0, 0, 0]\n",
      "1 batches took 625.889172 seconds and has accuracy 0.156250, with train loss 2.207746\n",
      "tensor([0, 9, 0, 6, 9, 2, 8, 2, 0, 4, 6, 4, 7, 9, 4, 5])\n",
      "[0, 0, 0, 0, 0, 0, 0, 0, 0, 0, 0, 0, 0, 0, 0, 0]\n",
      "[0, 0, 0, 0, 0, 0, 0, 0, 0, 0, 0, 0, 0, 0, 0, 0]\n",
      "2 batches took 673.959574 seconds and has accuracy 0.156250, with train loss 2.205171\n",
      "tensor([3, 6, 5, 4, 1, 6, 1, 2, 8, 0, 5, 3, 6, 1, 0, 0])\n",
      "[0, 0, 0, 0, 0, 0, 0, 0, 0, 0, 0, 0, 0, 0, 0, 0]\n",
      "[0, 0, 0, 0, 0, 0, 0, 0, 0, 0, 0, 0, 0, 0, 0, 0]\n",
      "1 batches took 720.329507 seconds and has accuracy 0.156250, with train loss 2.196820\n",
      "tensor([0, 9, 0, 6, 9, 2, 8, 2, 0, 4, 6, 4, 7, 9, 4, 5])\n",
      "[0, 0, 0, 0, 0, 0, 0, 0, 0, 0, 0, 0, 0, 0, 0, 0]\n",
      "[0, 0, 0, 0, 0, 0, 0, 0, 0, 0, 0, 0, 0, 0, 0, 0]\n",
      "2 batches took 767.373669 seconds and has accuracy 0.156250, with train loss 2.192283\n",
      "tensor([3, 6, 5, 4, 1, 6, 1, 2, 8, 0, 5, 3, 6, 1, 0, 0])\n",
      "[0, 0, 0, 0, 0, 0, 0, 0, 0, 0, 0, 0, 0, 0, 0, 0]\n",
      "[0, 0, 0, 0, 0, 0, 0, 0, 0, 0, 0, 0, 0, 0, 0, 0]\n",
      "1 batches took 814.761869 seconds and has accuracy 0.156250, with train loss 2.193120\n",
      "tensor([0, 9, 0, 6, 9, 2, 8, 2, 0, 4, 6, 4, 7, 9, 4, 5])\n",
      "[0, 0, 0, 0, 0, 0, 0, 0, 0, 0, 0, 0, 0, 0, 0, 0]\n",
      "[0, 0, 0, 0, 0, 0, 0, 0, 0, 0, 0, 0, 0, 0, 0, 0]\n",
      "2 batches took 865.027383 seconds and has accuracy 0.156250, with train loss 2.196649\n",
      "tensor([3, 6, 5, 4, 1, 6, 1, 2, 8, 0, 5, 3, 6, 1, 0, 0])\n",
      "[0, 0, 0, 0, 0, 0, 0, 0, 0, 0, 0, 0, 0, 0, 0, 0]\n",
      "[0, 0, 0, 0, 0, 0, 0, 0, 0, 0, 0, 0, 0, 0, 0, 0]\n",
      "1 batches took 913.887675 seconds and has accuracy 0.156250, with train loss 2.192129\n",
      "tensor([0, 9, 0, 6, 9, 2, 8, 2, 0, 4, 6, 4, 7, 9, 4, 5])\n",
      "[0, 0, 0, 0, 0, 0, 0, 0, 0, 0, 0, 0, 0, 0, 0, 0]\n",
      "[0, 0, 0, 0, 0, 0, 0, 0, 0, 0, 0, 0, 0, 0, 0, 0]\n",
      "2 batches took 963.994610 seconds and has accuracy 0.156250, with train loss 2.186065\n",
      "tensor([3, 6, 5, 4, 1, 6, 1, 2, 8, 0, 5, 3, 6, 1, 0, 0])\n",
      "[0, 0, 0, 0, 0, 0, 0, 0, 0, 0, 0, 0, 0, 0, 0, 0]\n",
      "[0, 0, 0, 0, 0, 0, 0, 0, 0, 0, 0, 0, 0, 0, 0, 0]\n",
      "1 batches took 1011.018802 seconds and has accuracy 0.156250, with train loss 2.189476\n",
      "tensor([0, 9, 0, 6, 9, 2, 8, 2, 0, 4, 6, 4, 7, 9, 4, 5])\n",
      "[0, 0, 0, 0, 0, 0, 0, 0, 0, 0, 0, 0, 0, 0, 0, 0]\n",
      "[0, 0, 0, 0, 0, 0, 0, 0, 0, 0, 0, 0, 0, 0, 0, 0]\n",
      "2 batches took 1057.452431 seconds and has accuracy 0.156250, with train loss 2.174250\n",
      "tensor([3, 6, 5, 4, 1, 6, 1, 2, 8, 0, 5, 3, 6, 1, 0, 0])\n",
      "[0, 0, 0, 0, 0, 0, 0, 0, 0, 0, 0, 0, 0, 0, 0, 0]\n",
      "[0, 0, 0, 0, 0, 0, 0, 0, 0, 0, 0, 0, 0, 0, 0, 0]\n",
      "1 batches took 1104.060711 seconds and has accuracy 0.156250, with train loss 2.181501\n",
      "tensor([0, 9, 0, 6, 9, 2, 8, 2, 0, 4, 6, 4, 7, 9, 4, 5])\n",
      "[0, 0, 0, 0, 0, 0, 0, 0, 0, 0, 0, 0, 0, 0, 0, 0]\n",
      "[0, 0, 0, 0, 0, 0, 0, 0, 0, 0, 0, 0, 0, 0, 0, 0]\n",
      "2 batches took 1150.454614 seconds and has accuracy 0.156250, with train loss 2.174358\n",
      "tensor([3, 6, 5, 4, 1, 6, 1, 2, 8, 0, 5, 3, 6, 1, 0, 0])\n",
      "[0, 0, 0, 0, 0, 0, 0, 0, 0, 0, 0, 0, 0, 0, 0, 0]\n",
      "[0, 0, 0, 0, 0, 0, 0, 0, 0, 0, 0, 0, 0, 0, 0, 0]\n",
      "1 batches took 1197.342148 seconds and has accuracy 0.156250, with train loss 2.181742\n",
      "tensor([0, 9, 0, 6, 9, 2, 8, 2, 0, 4, 6, 4, 7, 9, 4, 5])\n",
      "[0, 0, 0, 0, 0, 0, 0, 0, 0, 0, 0, 0, 0, 0, 0, 0]\n",
      "[0, 0, 0, 0, 0, 0, 0, 0, 0, 0, 0, 0, 0, 0, 0, 0]\n",
      "2 batches took 1242.820505 seconds and has accuracy 0.156250, with train loss 2.174050\n",
      "tensor([3, 6, 5, 4, 1, 6, 1, 2, 8, 0, 5, 3, 6, 1, 0, 0])\n",
      "[0, 0, 0, 0, 0, 0, 0, 0, 0, 0, 0, 0, 0, 0, 0, 0]\n",
      "[0, 0, 0, 0, 0, 0, 0, 0, 0, 0, 0, 0, 0, 0, 0, 0]\n",
      "1 batches took 1291.145227 seconds and has accuracy 0.156250, with train loss 2.181706\n",
      "tensor([0, 9, 0, 6, 9, 2, 8, 2, 0, 4, 6, 4, 7, 9, 4, 5])\n",
      "[0, 0, 0, 0, 0, 0, 0, 0, 0, 0, 0, 0, 0, 0, 0, 0]\n",
      "[0, 0, 0, 0, 0, 0, 0, 0, 0, 0, 0, 0, 0, 0, 0, 0]\n",
      "2 batches took 1338.672081 seconds and has accuracy 0.156250, with train loss 2.170994\n",
      "tensor([3, 6, 5, 4, 1, 6, 1, 2, 8, 0, 5, 3, 6, 1, 0, 0])\n",
      "[0, 0, 0, 0, 0, 0, 0, 0, 0, 0, 0, 0, 0, 0, 0, 0]\n",
      "[0, 0, 0, 0, 0, 0, 0, 0, 0, 0, 0, 0, 0, 0, 0, 0]\n",
      "1 batches took 1388.881718 seconds and has accuracy 0.156250, with train loss 2.180079\n",
      "tensor([0, 9, 0, 6, 9, 2, 8, 2, 0, 4, 6, 4, 7, 9, 4, 5])\n",
      "[0, 0, 0, 0, 0, 0, 0, 0, 0, 0, 0, 0, 0, 0, 0, 0]\n",
      "[0, 0, 0, 0, 0, 0, 0, 0, 0, 0, 0, 0, 0, 0, 0, 0]\n",
      "2 batches took 1440.030872 seconds and has accuracy 0.156250, with train loss 2.170091\n",
      "tensor([3, 6, 5, 4, 1, 6, 1, 2, 8, 0, 5, 3, 6, 1, 0, 0])\n",
      "[0, 0, 0, 0, 0, 0, 0, 0, 0, 0, 0, 0, 0, 0, 0, 0]\n",
      "[0, 0, 0, 0, 0, 0, 0, 0, 0, 0, 0, 0, 0, 0, 0, 0]\n",
      "1 batches took 1491.225941 seconds and has accuracy 0.156250, with train loss 2.173836\n",
      "tensor([0, 9, 0, 6, 9, 2, 8, 2, 0, 4, 6, 4, 7, 9, 4, 5])\n",
      "[0, 0, 0, 0, 0, 0, 0, 0, 0, 0, 0, 0, 0, 0, 0, 0]\n",
      "[0, 0, 0, 0, 0, 0, 0, 0, 0, 0, 0, 0, 0, 0, 0, 0]\n",
      "2 batches took 1540.739456 seconds and has accuracy 0.156250, with train loss 2.169041\n",
      "tensor([3, 6, 5, 4, 1, 6, 1, 2, 8, 0, 5, 3, 6, 1, 0, 0])\n",
      "[0, 0, 0, 0, 0, 0, 0, 0, 0, 0, 0, 0, 0, 0, 0, 0]\n",
      "[0, 0, 0, 0, 0, 0, 0, 0, 0, 0, 0, 0, 0, 0, 0, 0]\n",
      "1 batches took 1589.422210 seconds and has accuracy 0.156250, with train loss 2.178766\n",
      "tensor([0, 9, 0, 6, 9, 2, 8, 2, 0, 4, 6, 4, 7, 9, 4, 5])\n",
      "[0, 0, 0, 0, 0, 0, 0, 0, 0, 0, 0, 0, 0, 0, 0, 0]\n",
      "[0, 0, 0, 0, 0, 0, 0, 0, 0, 0, 0, 0, 0, 0, 0, 0]\n"
     ]
    },
    {
     "name": "stdout",
     "output_type": "stream",
     "text": [
      "2 batches took 1635.954721 seconds and has accuracy 0.156250, with train loss 2.164291\n",
      "tensor([3, 6, 5, 4, 1, 6, 1, 2, 8, 0, 5, 3, 6, 1, 0, 0])\n",
      "[0, 0, 0, 0, 0, 0, 0, 0, 0, 0, 0, 0, 0, 0, 0, 0]\n",
      "[0, 0, 0, 0, 0, 0, 0, 0, 0, 0, 0, 0, 0, 0, 0, 0]\n",
      "1 batches took 1683.009802 seconds and has accuracy 0.156250, with train loss 2.175967\n",
      "tensor([0, 9, 0, 6, 9, 2, 8, 2, 0, 4, 6, 4, 7, 9, 4, 5])\n",
      "[0, 0, 0, 0, 0, 0, 0, 0, 0, 0, 0, 0, 0, 0, 0, 0]\n",
      "[0, 0, 0, 0, 0, 0, 0, 0, 0, 0, 0, 0, 0, 0, 0, 0]\n",
      "2 batches took 1732.797601 seconds and has accuracy 0.156250, with train loss 2.162126\n",
      "tensor([3, 6, 5, 4, 1, 6, 1, 2, 8, 0, 5, 3, 6, 1, 0, 0])\n",
      "[0, 0, 0, 0, 0, 0, 0, 0, 0, 0, 0, 0, 0, 0, 0, 0]\n",
      "[0, 0, 0, 0, 0, 0, 0, 0, 0, 0, 0, 0, 0, 0, 0, 0]\n",
      "1 batches took 1781.736669 seconds and has accuracy 0.156250, with train loss 2.170700\n",
      "tensor([0, 9, 0, 6, 9, 2, 8, 2, 0, 4, 6, 4, 7, 9, 4, 5])\n",
      "[0, 0, 0, 0, 0, 0, 0, 0, 0, 0, 0, 0, 0, 0, 0, 0]\n",
      "[0, 0, 0, 0, 0, 0, 0, 0, 0, 0, 0, 0, 0, 0, 0, 0]\n",
      "2 batches took 1833.041439 seconds and has accuracy 0.156250, with train loss 2.164722\n",
      "tensor([3, 6, 5, 4, 1, 6, 1, 2, 8, 0, 5, 3, 6, 1, 0, 0])\n",
      "[0, 0, 0, 0, 0, 0, 0, 0, 0, 0, 0, 0, 0, 0, 0, 0]\n",
      "[0, 0, 0, 0, 0, 0, 0, 0, 0, 0, 0, 0, 0, 0, 0, 0]\n",
      "1 batches took 1883.902337 seconds and has accuracy 0.156250, with train loss 2.177283\n",
      "tensor([0, 9, 0, 6, 9, 2, 8, 2, 0, 4, 6, 4, 7, 9, 4, 5])\n",
      "[0, 0, 0, 0, 0, 0, 0, 0, 0, 0, 0, 0, 0, 0, 0, 0]\n",
      "[0, 0, 0, 0, 0, 0, 0, 0, 0, 0, 0, 0, 0, 0, 0, 0]\n",
      "2 batches took 1934.328427 seconds and has accuracy 0.156250, with train loss 2.159427\n"
     ]
    }
   ],
   "source": [
    "# Overfit like crazy on the first 32 examples\n",
    "overfit = []\n",
    "for i, data in enumerate(train_loader, 0):\n",
    "    overfit.append((i, data))\n",
    "    if i == 2:\n",
    "        break\n",
    "etas = [1, 7e-1, 3e-1, 1e-1]\n",
    "start = time.time()\n",
    "accuracies = []\n",
    "losses = []\n",
    "for eta in etas:\n",
    "    for epoch in range(5):\n",
    "        for i, data in overfit:\n",
    "            print(labels)\n",
    "            inputs, labels = data\n",
    "            X = encoder(inputs.view(len(labels), -1))\n",
    "            dcost = qml.grad(cost, argnum=[2,3])\n",
    "            theta_grad, bias_grad = dcost(X.numpy(), labels.numpy(), thetas, bias)\n",
    "            loss = cost(X.numpy(), labels.numpy(), thetas, bias)\n",
    "            losses.append(loss)\n",
    "            thetas -= eta * theta_grad\n",
    "            bias -= eta * bias_grad\n",
    "            acc = accuracy(thetas, bias)\n",
    "            accuracies.append(acc)\n",
    "            print(\"%d batches took %f seconds and has accuracy %f, with train loss %f\" % (i + 1, time.time() - start, acc, loss))\n",
    "            if i == 1:\n",
    "                break"
   ]
  },
  {
   "cell_type": "code",
   "execution_count": 37,
   "metadata": {
    "scrolled": false
   },
   "outputs": [
    {
     "data": {
      "image/png": "[encoded data removed]",
      "text/plain": [
       "<Figure size 432x288 with 1 Axes>"
      ]
     },
     "metadata": {
      "needs_background": "light"
     },
     "output_type": "display_data"
    },
    {
     "name": "stdout",
     "output_type": "stream",
     "text": [
      "[ 6.79294438e-01  1.17860259e-02 -1.75521951e-02 -3.14010476e-01\n",
      "  2.32579413e-01  4.66892947e-04  4.91324288e-01 -7.11651062e-01\n",
      " -3.31420889e-01 -4.08164347e-02]\n",
      "0.9197315787108074\n"
     ]
    }
   ],
   "source": [
    "plt.plot(losses)\n",
    "plt.show()\n",
    "print(bias)\n",
    "diff_thetas = thetas - init_thetas\n",
    "print(np.sqrt(np.sum(diff_thetas*diff_thetas)))"
   ]
  },
  {
   "cell_type": "code",
   "execution_count": 181,
   "metadata": {},
   "outputs": [
    {
     "name": "stdout",
     "output_type": "stream",
     "text": [
      "tensor([3, 7, 8, 4, 6, 5, 9, 4, 8, 7, 8, 1, 0, 9, 3, 7])\n",
      "[8, 6, 7, 6, 8, 8, 8, 6, 5, 6, 8, 8, 8, 8, 6, 6]\n",
      "[8, 6, 8, 6, 6, 8, 8, 8, 8, 8, 8, 8, 6, 8, 8, 8]\n",
      "1 batches took 16.688527 seconds and has accuracy 0.031250, with train loss 2.297098\n",
      "tensor([2, 3, 1, 1, 8, 3, 1, 5, 4, 5, 1, 0, 2, 6, 7, 0])\n",
      "[5, 6, 7, 6, 1, 5, 8, 6, 8, 6, 8, 8, 8, 8, 6, 1]\n",
      "[5, 6, 5, 6, 6, 5, 8, 7, 5, 5, 8, 3, 8, 6, 8, 4]\n",
      "2 batches took 33.328079 seconds and has accuracy 0.000000, with train loss 2.306482\n",
      "tensor([7, 2, 2, 2, 5, 3, 5, 1, 0, 6, 4, 3, 5, 6, 4, 0])\n",
      "[1, 6, 7, 7, 8, 8, 5, 1, 1, 6, 8, 8, 8, 5, 6, 8]\n",
      "[8, 6, 6, 6, 6, 8, 5, 1, 5, 8, 8, 1, 7, 7, 8, 3]\n",
      "3 batches took 49.407852 seconds and has accuracy 0.000000, with train loss 2.309803\n",
      "tensor([2, 7, 9, 9, 1, 2, 1, 0, 8, 4, 5, 5, 2, 0, 1, 1])\n",
      "[1, 6, 1, 7, 1, 7, 8, 1, 5, 6, 7, 8, 8, 5, 6, 2]\n",
      "[5, 6, 1, 6, 2, 7, 8, 4, 8, 8, 7, 8, 1, 7, 8, 7]\n",
      "4 batches took 65.276373 seconds and has accuracy 0.093750, with train loss 2.295561\n",
      "tensor([4, 6, 0, 7, 2, 5, 9, 8, 9, 1, 7, 7, 2, 7, 6, 7])\n",
      "[1, 6, 6, 7, 7, 7, 8, 7, 7, 6, 7, 8, 8, 8, 7, 7]\n",
      "[8, 6, 8, 7, 7, 8, 8, 8, 8, 8, 8, 8, 8, 8, 8, 1]\n",
      "5 batches took 81.286175 seconds and has accuracy 0.031250, with train loss 2.309128\n",
      "tensor([7, 9, 6, 4, 3, 9, 1, 8, 6, 7, 0, 2, 8, 8, 8, 4])\n",
      "[5, 6, 7, 6, 7, 7, 8, 7, 7, 6, 7, 8, 5, 8, 7, 6]\n",
      "[8, 6, 6, 7, 6, 8, 8, 8, 8, 8, 8, 8, 6, 7, 5, 7]\n",
      "6 batches took 99.010776 seconds and has accuracy 0.000000, with train loss 2.305589\n",
      "tensor([6, 3, 9, 7, 4, 7, 2, 1, 3, 0, 9, 6, 5, 8, 6, 5])\n",
      "[8, 6, 8, 6, 7, 8, 8, 6, 8, 6, 7, 8, 8, 8, 6, 1]\n",
      "[8, 6, 6, 6, 6, 8, 8, 7, 8, 8, 8, 8, 7, 6, 8, 5]\n",
      "7 batches took 117.872795 seconds and has accuracy 0.000000, with train loss 2.299160\n",
      "tensor([4, 4, 6, 8, 4, 1, 0, 1, 3, 5, 3, 0, 0, 3, 8, 6])\n",
      "[8, 6, 8, 6, 1, 8, 8, 6, 8, 6, 4, 8, 8, 8, 7, 8]\n",
      "[8, 6, 8, 7, 6, 7, 8, 7, 8, 8, 8, 8, 8, 7, 8, 3]\n",
      "8 batches took 133.349364 seconds and has accuracy 0.000000, with train loss 2.307235\n",
      "tensor([4, 4, 8, 3, 3, 3, 3, 1, 1, 4, 8, 8, 4, 1, 9, 7])\n",
      "[4, 6, 6, 6, 8, 8, 8, 6, 8, 6, 8, 8, 8, 4, 6, 8]\n",
      "[8, 6, 6, 6, 6, 4, 8, 8, 1, 8, 8, 8, 6, 6, 4, 6]\n",
      "9 batches took 149.566008 seconds and has accuracy 0.000000, with train loss 2.305479\n",
      "tensor([4, 5, 9, 6, 0, 2, 3, 8, 9, 6, 0, 6, 6, 6, 4, 2])\n",
      "[7, 6, 6, 6, 6, 7, 8, 6, 4, 6, 6, 8, 8, 5, 6, 6]\n",
      "[4, 6, 7, 6, 6, 6, 4, 8, 8, 8, 4, 8, 6, 6, 4, 5]\n",
      "10 batches took 167.278590 seconds and has accuracy 0.062500, with train loss 2.306966\n",
      "tensor([1, 1, 6, 8, 7, 5, 4, 4, 0, 7, 3, 6, 5, 2, 5, 5])\n",
      "[8, 6, 6, 6, 6, 6, 8, 6, 4, 6, 6, 8, 4, 8, 6, 8]\n",
      "[8, 6, 7, 6, 6, 4, 8, 6, 1, 4, 8, 4, 6, 6, 8, 8]\n",
      "11 batches took 183.329646 seconds and has accuracy 0.031250, with train loss 2.300415\n",
      "tensor([3, 4, 6, 0, 5, 7, 4, 0, 4, 8, 6, 9, 9, 8, 0, 2])\n",
      "[1, 6, 6, 6, 4, 1, 4, 6, 8, 6, 8, 8, 8, 4, 6, 5]\n",
      "[8, 6, 6, 6, 6, 1, 8, 6, 4, 4, 8, 8, 6, 8, 8, 7]\n",
      "12 batches took 199.292942 seconds and has accuracy 0.156250, with train loss 2.302295\n",
      "tensor([9, 5, 2, 7, 4, 0, 5, 9, 1, 6, 8, 1, 1, 1, 7, 3])\n",
      "[6, 6, 8, 6, 6, 5, 8, 6, 8, 6, 1, 8, 8, 4, 6, 6]\n",
      "[8, 6, 6, 6, 8, 8, 8, 8, 8, 8, 4, 8, 6, 8, 8, 2]\n",
      "13 batches took 215.490604 seconds and has accuracy 0.000000, with train loss 2.295862\n",
      "tensor([8, 9, 5, 2, 1, 7, 9, 2, 6, 8, 5, 8, 1, 0, 2, 2])\n",
      "[8, 6, 6, 6, 6, 6, 8, 6, 8, 6, 1, 8, 8, 8, 6, 6]\n",
      "[4, 6, 6, 6, 6, 6, 8, 6, 6, 8, 8, 8, 6, 6, 8, 1]\n",
      "14 batches took 233.942620 seconds and has accuracy 0.062500, with train loss 2.294891\n",
      "tensor([1, 6, 2, 1, 9, 6, 6, 6, 6, 9, 8, 4, 1, 6, 7, 3])\n",
      "[8, 6, 6, 6, 1, 6, 1, 6, 8, 6, 6, 8, 8, 8, 6, 6]\n",
      "[8, 6, 6, 6, 6, 8, 8, 1, 1, 8, 8, 6, 6, 6, 8, 8]\n",
      "15 batches took 251.010117 seconds and has accuracy 0.000000, with train loss 2.305467\n",
      "tensor([7, 0, 2, 9, 2, 4, 3, 6, 2, 3, 1, 1, 8, 2, 9, 6])\n",
      "[6, 6, 6, 6, 6, 6, 4, 6, 8, 6, 6, 8, 1, 1, 6, 6]\n",
      "[4, 6, 6, 6, 6, 8, 8, 1, 1, 8, 1, 6, 6, 6, 4, 6]\n",
      "16 batches took 268.068780 seconds and has accuracy 0.031250, with train loss 2.312261\n",
      "tensor([3, 2, 6, 0, 7, 4, 3, 7, 2, 2, 1, 7, 4, 3, 8, 6])\n",
      "[6, 6, 6, 6, 6, 1, 8, 6, 1, 6, 8, 8, 4, 4, 6, 6]\n",
      "[8, 6, 6, 6, 6, 8, 8, 6, 6, 8, 4, 8, 1, 6, 8, 6]\n",
      "17 batches took 285.678983 seconds and has accuracy 0.031250, with train loss 2.295919\n",
      "tensor([8, 5, 7, 4, 3, 4, 5, 1, 2, 3, 8, 4, 3, 1, 8, 6])\n",
      "[6, 6, 6, 6, 6, 8, 8, 6, 8, 6, 6, 8, 8, 8, 6, 6]\n",
      "[8, 6, 8, 6, 6, 8, 8, 6, 8, 8, 8, 6, 6, 6, 8, 6]\n",
      "18 batches took 303.415284 seconds and has accuracy 0.000000, with train loss 2.282407\n",
      "tensor([9, 6, 8, 2, 7, 0, 8, 8, 9, 6, 7, 4, 7, 4, 6, 9])\n",
      "[8, 6, 7, 6, 6, 8, 8, 6, 8, 6, 6, 8, 8, 4, 6, 6]\n",
      "[8, 6, 6, 6, 6, 6, 4, 7, 8, 8, 6, 6, 1, 6, 8, 8]\n",
      "19 batches took 321.510444 seconds and has accuracy 0.031250, with train loss 2.300586\n",
      "tensor([1, 1, 7, 7, 7, 5, 4, 7, 9, 2, 8, 3, 5, 4, 2, 6])\n",
      "[8, 6, 6, 6, 6, 4, 4, 6, 8, 6, 7, 8, 8, 4, 6, 8]\n",
      "[8, 6, 6, 6, 6, 8, 8, 6, 8, 8, 6, 8, 6, 6, 8, 6]\n",
      "20 batches took 338.654611 seconds and has accuracy 0.031250, with train loss 2.308179\n",
      "tensor([5, 2, 5, 4, 5, 3, 6, 4, 0, 4, 8, 3, 7, 4, 4, 8])\n",
      "[7, 6, 6, 6, 6, 2, 4, 6, 4, 6, 4, 4, 4, 4, 6, 8]\n",
      "[4, 6, 6, 6, 6, 4, 4, 6, 4, 4, 4, 4, 1, 6, 4, 1]\n",
      "21 batches took 355.942346 seconds and has accuracy 0.156250, with train loss 2.314698\n"
     ]
    }
   ],
   "source": [
    "etas = [1e-1]\n",
    "start = time.time()\n",
    "accuracies = []\n",
    "losses = []\n",
    "for epoch in range(1):\n",
    "    for eta in etas:\n",
    "        for i, data in enumerate(train_loader, 0):\n",
    "            print(labels)\n",
    "            inputs, labels = data\n",
    "            X = encoder(inputs.view(len(labels), -1))\n",
    "            dcost = qml.grad(cost, argnum=[2,3])\n",
    "            theta_grad, bias_grad = dcost(X.numpy(), labels.numpy(), thetas, bias)\n",
    "            loss = cost(X.numpy(), labels.numpy(), thetas, bias)\n",
    "            losses.append(loss)\n",
    "            thetas -= eta * theta_grad\n",
    "            bias -= eta * bias_grad\n",
    "            acc = accuracy(thetas, bias)\n",
    "            accuracies.append(acc)\n",
    "            print(\"%d batches took %f seconds and has accuracy %f, with train loss %f\" % (i + 1, time.time() - start, acc, loss))\n",
    "            if i == 20:\n",
    "                break"
   ]
  },
  {
   "cell_type": "code",
   "execution_count": 18,
   "metadata": {
    "scrolled": true
   },
   "outputs": [
    {
     "data": {
      "image/png": "[encoded data removed]",
      "text/plain": [
       "<Figure size 432x288 with 1 Axes>"
      ]
     },
     "metadata": {
      "needs_background": "light"
     },
     "output_type": "display_data"
    },
    {
     "name": "stdout",
     "output_type": "stream",
     "text": [
      "[ 0.08351886 -0.03586817 -0.00538317 -0.03651299 -0.03605283 -0.00593571\n",
      " -0.00632599  0.02434582  0.02424944 -0.00603525]\n",
      "0.014775035931243952\n"
     ]
    }
   ],
   "source": [
    "plt.plot(losses)\n",
    "plt.show()\n",
    "print(bias)\n",
    "diff_thetas = thetas - init_thetas\n",
    "print(np.sqrt(np.sum(diff_thetas*diff_thetas)))"
   ]
  },
  {
   "cell_type": "code",
   "execution_count": 164,
   "metadata": {
    "scrolled": true
   },
   "outputs": [
    {
     "name": "stdout",
     "output_type": "stream",
     "text": [
      "[-0.08729522 -0.03729522 -0.09329522 -0.04729522]\n",
      "[-0.83772512  1.03827488 -0.79772512  1.03427488]\n",
      "[ 0.91148296  0.59148296 -0.13851704  0.59148296]\n",
      "[0.99986255 0.80186255 0.85586255 0.80586255]\n",
      "[-0.97759454 -0.58759454  0.14840546 -0.58959454]\n",
      "[-0.06805835  0.02194165 -0.06605835  0.01794165]\n",
      "[ 0.8774088 -0.5485912  0.8374088 -0.5565912]\n",
      "[0.98727886 0.26327886 0.22327886 0.26527886]\n",
      "[-0.30220064 -0.23020064 -0.29620064 -0.22220064]\n",
      "[0.25290899 0.97090899 0.33090899 0.97690899]\n"
     ]
    }
   ],
   "source": [
    "#Check for favoritism\n",
    "for i in range(NUM_CLASSES):\n",
    "    print(circuit_tighten(np.random.randn(ENCODING_SIZE), MASK, thetas[i]) + bias[i])"
   ]
  },
  {
   "cell_type": "raw",
   "metadata": {},
   "source": []
  }
 ],
 "metadata": {
  "kernelspec": {
   "display_name": "Python 3",
   "language": "python",
   "name": "python3"
  },
  "language_info": {
   "codemirror_mode": {
    "name": "ipython",
    "version": 3
   },
   "file_extension": ".py",
   "mimetype": "text/x-python",
   "name": "python",
   "nbconvert_exporter": "python",
   "pygments_lexer": "ipython3",
   "version": "3.7.1"
  }
 },
 "nbformat": 4,
 "nbformat_minor": 2
}
