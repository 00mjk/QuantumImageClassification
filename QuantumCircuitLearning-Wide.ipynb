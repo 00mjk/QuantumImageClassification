{
 "cells": [
  {
   "cell_type": "markdown",
   "metadata": {},
   "source": [
    "# Wide Quantum Circuit Learning"
   ]
  },
  {
   "cell_type": "code",
   "execution_count": 2,
   "metadata": {
    "scrolled": true
   },
   "outputs": [],
   "source": [
    "import pennylane as qml\n",
    "from pennylane import numpy as np\n",
    "import pennylane.optimize"
   ]
  },
  {
   "cell_type": "code",
   "execution_count": 3,
   "metadata": {
    "scrolled": true
   },
   "outputs": [],
   "source": [
    "import os\n",
    "import time\n",
    "import random\n",
    "import pickle\n",
    "import matplotlib.pyplot as plt\n",
    "import torch\n",
    "import torch.nn as nn\n",
    "import torch.optim as optim\n",
    "from torch.autograd import Variable\n",
    "from torchsummary import summary"
   ]
  },
  {
   "cell_type": "code",
   "execution_count": 4,
   "metadata": {},
   "outputs": [],
   "source": [
    "from tqdm import tqdm\n",
    "from MNISTData import MNISTData\n",
    "from AutoEncoder import AutoEncoder"
   ]
  },
  {
   "cell_type": "code",
   "execution_count": 5,
   "metadata": {},
   "outputs": [],
   "source": [
    "ENCODING_SIZE = 10\n",
    "NUM_QUBITS =4\n",
    "NUM_CLASSES= 10\n",
    "# NUM_LAYERS specifies how many times the circuit is run over the qubit wires.\n",
    "# Should increase runtime by a factor of NUM_LAYERS.\n",
    "NUM_LAYERS = 10"
   ]
  },
  {
   "cell_type": "code",
   "execution_count": 10,
   "metadata": {
    "scrolled": true
   },
   "outputs": [],
   "source": [
    "dev = qml.device(\"forest.qvm\", device=\"{}q-pyqvm\".format(NUM_QUBITS), shots=1000)"
   ]
  },
  {
   "cell_type": "code",
   "execution_count": 41,
   "metadata": {},
   "outputs": [],
   "source": [
    "from pennylane.ops import RX, RY, CNOT\n",
    "\n",
    "# x will be a length ENCODING_SIZE vector that represents\n",
    "# the encoding of a MNIST image\n",
    "# thetas is of size 2 * NUM_QUBITS\n",
    "@qml.qnode(dev)\n",
    "def circuit(x, thetas):\n",
    "    for i in range(ENCODING_SIZE):\n",
    "        RX(x[i], wires=i)\n",
    "    for j in range(NUM_LAYERS):\n",
    "        for i in range(NUM_QUBITS - 1):\n",
    "            CNOT(wires=[i, i+1])\n",
    "        for i in range(NUM_QUBITS):\n",
    "            RX(thetas[j][i], wires=i)\n",
    "        for i in range(NUM_QUBITS, 2 * NUM_QUBITS):\n",
    "            RY(thetas[j][i], wires=(i - NUM_QUBITS))\n",
    "    return tuple(qml.expval.PauliZ(wires=i) for i in range(NUM_QUBITS))\n",
    "\n",
    "\n",
    "#params: x - input x\n",
    "#        mask - mapping from range(ENCODING SIZE) to range(4)\n",
    "#        thetas - learned parameters\n",
    "#NOTE: Written for NUM_QUBITS = 4\n",
    "@qml.qnode(dev)\n",
    "def circuit_tighten(x, mask, thetas):\n",
    "    for i in range(ENCODING_SIZE):\n",
    "            if i // NUM_QUBITS % 2 == 0: \n",
    "                RX(x[i], wires=i//NUM_QUBITS)\n",
    "            else:\n",
    "                RY(x[i], wires=i//NUM_QUBITS)\n",
    "    for j in range(NUM_LAYERS):\n",
    "        CNOT(wires=[0, 1])\n",
    "        CNOT(wires=[1, 3])\n",
    "        CNOT(wires=[0, 2])\n",
    "        for i in range(NUM_QUBITS):\n",
    "            RX(thetas[j][i], wires=i)\n",
    "        for i in range(NUM_QUBITS, 2 * NUM_QUBITS):\n",
    "            RY(thetas[j][i], wires=(i - NUM_QUBITS))\n",
    "    return [qml.expval.PauliZ(wires=i) for i in range(NUM_QUBITS)]\n",
    "\n",
    "def get_mask():\n",
    "    sub_masks = []\n",
    "    for i in range(ENCODING_SIZE//NUM_QUBITS + 1):\n",
    "        sub_masks.append(np.random.permutation(NUM_QUBITS))\n",
    "    res = np.concatenate(sub_masks).flatten()\n",
    "    return res.tolist()"
   ]
  },
  {
   "cell_type": "code",
   "execution_count": 42,
   "metadata": {},
   "outputs": [
    {
     "name": "stdout",
     "output_type": "stream",
     "text": [
      "-0.5425\n"
     ]
    }
   ],
   "source": [
    "# example input\n",
    "MASK = get_mask()\n",
    "print(np.mean(circuit_tighten([np.pi/5]*(ENCODING_SIZE), MASK, [[np.pi]*(2 * NUM_QUBITS)]*NUM_LAYERS)))"
   ]
  },
  {
   "cell_type": "code",
   "execution_count": 43,
   "metadata": {},
   "outputs": [],
   "source": [
    "# NOTE: EDITED COST FUNCTION to use bias, and to prevent bias from gaming\n",
    "#       the cost function.\n",
    "def cost(X, actual_labels, thetas, bias):\n",
    "    b = X.shape[0]\n",
    "    yhats = []\n",
    "    for i in range(b):\n",
    "        scores = []\n",
    "        for j in range(NUM_CLASSES):\n",
    "            scores.append(np.mean(circuit_tighten(X[i], MASK, thetas[j]) + bias[j]))\n",
    "        yhats.append(scores)\n",
    "    st = np.stack(yhats)\n",
    "    actual_class_vals = st[range(b), actual_labels]\n",
    "    shifted = st - np.max(st, axis=1)[:, np.newaxis]\n",
    "    the_sum = np.log(np.sum(np.exp(shifted), axis=1)) \n",
    "    # Return loss + regularization term on bias\n",
    "    return np.mean(-actual_class_vals + the_sum + np.max(st, axis=1))"
   ]
  },
  {
   "cell_type": "markdown",
   "metadata": {},
   "source": [
    "At this point, we have to get our (encoded) images so that we may actually start training"
   ]
  },
  {
   "cell_type": "code",
   "execution_count": 6,
   "metadata": {},
   "outputs": [
    {
     "name": "stdout",
     "output_type": "stream",
     "text": [
      "Downloading http://yann.lecun.com/exdb/mnist/train-images-idx3-ubyte.gz to ./data\\MNIST\\raw\\train-images-idx3-ubyte.gz\n"
     ]
    },
    {
     "name": "stderr",
     "output_type": "stream",
     "text": [
      " 99%|██████████████████████████████████████████████████████████████████▍| 9822208/9912422 [00:12<00:00, 1046466.35it/s]"
     ]
    },
    {
     "name": "stdout",
     "output_type": "stream",
     "text": [
      "Extracting ./data\\MNIST\\raw\\train-images-idx3-ubyte.gz\n",
      "Downloading http://yann.lecun.com/exdb/mnist/train-labels-idx1-ubyte.gz to ./data\\MNIST\\raw\\train-labels-idx1-ubyte.gz\n"
     ]
    },
    {
     "name": "stderr",
     "output_type": "stream",
     "text": [
      "\n",
      "0it [00:00, ?it/s]\n",
      "  0%|                                                                                        | 0/28881 [00:00<?, ?it/s]\n",
      "32768it [00:00, 106649.63it/s]                                                                                         "
     ]
    },
    {
     "name": "stdout",
     "output_type": "stream",
     "text": [
      "Extracting ./data\\MNIST\\raw\\train-labels-idx1-ubyte.gz\n",
      "Downloading http://yann.lecun.com/exdb/mnist/t10k-images-idx3-ubyte.gz to ./data\\MNIST\\raw\\t10k-images-idx3-ubyte.gz\n"
     ]
    },
    {
     "name": "stderr",
     "output_type": "stream",
     "text": [
      "\n",
      "0it [00:00, ?it/s]\n",
      "  0%|                                                                                      | 0/1648877 [00:00<?, ?it/s]\n",
      "  1%|█                                                                     | 24576/1648877 [00:00<00:07, 210930.95it/s]\n",
      "  5%|███▊                                                                  | 90112/1648877 [00:00<00:05, 264197.50it/s]\n",
      " 10%|██████▊                                                              | 163840/1648877 [00:00<00:04, 304962.33it/s]\n",
      " 14%|█████████▉                                                           | 237568/1648877 [00:00<00:03, 368369.14it/s]\n",
      " 21%|██████████████▍                                                      | 344064/1648877 [00:00<00:02, 443593.96it/s]\n",
      " 27%|██████████████████▌                                                  | 442368/1648877 [00:00<00:02, 526134.54it/s]\n",
      " 32%|██████████████████████▎                                              | 532480/1648877 [00:01<00:01, 569460.60it/s]\n",
      " 38%|██████████████████████████                                           | 622592/1648877 [00:01<00:01, 629111.82it/s]\n",
      " 45%|██████████████████████████████▊                                      | 737280/1648877 [00:01<00:01, 725143.27it/s]\n",
      " 51%|███████████████████████████████████▎                                 | 843776/1648877 [00:01<00:01, 801596.03it/s]\n",
      " 58%|████████████████████████████████████████                             | 958464/1648877 [00:01<00:00, 864826.18it/s]\n",
      " 65%|████████████████████████████████████████████▎                       | 1073152/1648877 [00:01<00:00, 933022.64it/s]\n",
      " 73%|█████████████████████████████████████████████████▎                  | 1196032/1648877 [00:01<00:00, 997034.80it/s]\n",
      " 82%|██████████████████████████████████████████████████████▉            | 1351680/1648877 [00:01<00:00, 1114964.13it/s]\n",
      " 89%|███████████████████████████████████████████████████████████▉       | 1474560/1648877 [00:01<00:00, 1144148.80it/s]\n",
      " 97%|████████████████████████████████████████████████████████████████▉  | 1597440/1648877 [00:01<00:00, 1114084.17it/s]\n",
      "1654784it [00:02, 807235.29it/s]                                                                                       "
     ]
    },
    {
     "name": "stdout",
     "output_type": "stream",
     "text": [
      "Extracting ./data\\MNIST\\raw\\t10k-images-idx3-ubyte.gz\n",
      "Downloading http://yann.lecun.com/exdb/mnist/t10k-labels-idx1-ubyte.gz to ./data\\MNIST\\raw\\t10k-labels-idx1-ubyte.gz\n"
     ]
    },
    {
     "name": "stderr",
     "output_type": "stream",
     "text": [
      "\n",
      "0it [00:00, ?it/s]\n",
      "  0%|                                                                                         | 0/4542 [00:00<?, ?it/s]\n",
      "8192it [00:00, 42681.84it/s]                                                                                           "
     ]
    },
    {
     "name": "stdout",
     "output_type": "stream",
     "text": [
      "Extracting ./data\\MNIST\\raw\\t10k-labels-idx1-ubyte.gz\n",
      "Processing...\n",
      "Done!\n"
     ]
    }
   ],
   "source": [
    "data = MNISTData(batch_size=16)\n",
    "train_loader = data.get_train_loader()\n",
    "test_loader = data.get_test_loader()"
   ]
  },
  {
   "cell_type": "code",
   "execution_count": 7,
   "metadata": {},
   "outputs": [],
   "source": [
    "load_from_stem = \"./autoencoder_models/1558731906/\"\n",
    "load_model_from = os.path.join(load_from_stem, \"ae.pt\")\n",
    "load_layers_from = os.path.join(load_from_stem, \"layer_sizes.pkl\")"
   ]
  },
  {
   "cell_type": "code",
   "execution_count": 8,
   "metadata": {},
   "outputs": [
    {
     "name": "stderr",
     "output_type": "stream",
     "text": [
      "\r",
      "9920512it [00:30, 1046466.35it/s]                                                                                      "
     ]
    }
   ],
   "source": [
    "with open(load_layers_from, 'rb') as f:\n",
    "    layer_sizes = pickle.load(f)\n",
    "layer_sizes = layer_sizes[1:]\n",
    "ae = AutoEncoder(layer_sizes)\n",
    "ae.load_state_dict(torch.load(load_model_from))\n",
    "encoder = ae.encoder\n",
    "for child in encoder.children():\n",
    "    for param in child.parameters():\n",
    "        param.requires_grad = False"
   ]
  },
  {
   "cell_type": "code",
   "execution_count": 11,
   "metadata": {},
   "outputs": [
    {
     "ename": "RuntimeError",
     "evalue": "Expected object of backend CPU but got backend CUDA for argument #4 'mat1'",
     "output_type": "error",
     "traceback": [
      "\u001b[1;31m---------------------------------------------------------------------------\u001b[0m",
      "\u001b[1;31mRuntimeError\u001b[0m                              Traceback (most recent call last)",
      "\u001b[1;32m<ipython-input-11-0aad2088fcce>\u001b[0m in \u001b[0;36m<module>\u001b[1;34m\u001b[0m\n\u001b[1;32m----> 1\u001b[1;33m \u001b[0msummary\u001b[0m\u001b[1;33m(\u001b[0m\u001b[0mencoder\u001b[0m\u001b[1;33m,\u001b[0m \u001b[0minput_size\u001b[0m\u001b[1;33m=\u001b[0m\u001b[1;33m(\u001b[0m\u001b[1;36m28\u001b[0m \u001b[1;33m*\u001b[0m \u001b[1;36m28\u001b[0m\u001b[1;33m,\u001b[0m\u001b[1;33m)\u001b[0m\u001b[1;33m)\u001b[0m\u001b[1;33m\u001b[0m\u001b[1;33m\u001b[0m\u001b[0m\n\u001b[0m",
      "\u001b[1;32m~\\Anaconda3\\lib\\site-packages\\torchsummary\\torchsummary.py\u001b[0m in \u001b[0;36msummary\u001b[1;34m(model, input_size, batch_size, device)\u001b[0m\n\u001b[0;32m     70\u001b[0m     \u001b[1;31m# make a forward pass\u001b[0m\u001b[1;33m\u001b[0m\u001b[1;33m\u001b[0m\u001b[1;33m\u001b[0m\u001b[0m\n\u001b[0;32m     71\u001b[0m     \u001b[1;31m# print(x.shape)\u001b[0m\u001b[1;33m\u001b[0m\u001b[1;33m\u001b[0m\u001b[1;33m\u001b[0m\u001b[0m\n\u001b[1;32m---> 72\u001b[1;33m     \u001b[0mmodel\u001b[0m\u001b[1;33m(\u001b[0m\u001b[1;33m*\u001b[0m\u001b[0mx\u001b[0m\u001b[1;33m)\u001b[0m\u001b[1;33m\u001b[0m\u001b[1;33m\u001b[0m\u001b[0m\n\u001b[0m\u001b[0;32m     73\u001b[0m \u001b[1;33m\u001b[0m\u001b[0m\n\u001b[0;32m     74\u001b[0m     \u001b[1;31m# remove these hooks\u001b[0m\u001b[1;33m\u001b[0m\u001b[1;33m\u001b[0m\u001b[1;33m\u001b[0m\u001b[0m\n",
      "\u001b[1;32m~\\Anaconda3\\lib\\site-packages\\torch\\nn\\modules\\module.py\u001b[0m in \u001b[0;36m__call__\u001b[1;34m(self, *input, **kwargs)\u001b[0m\n\u001b[0;32m    491\u001b[0m             \u001b[0mresult\u001b[0m \u001b[1;33m=\u001b[0m \u001b[0mself\u001b[0m\u001b[1;33m.\u001b[0m\u001b[0m_slow_forward\u001b[0m\u001b[1;33m(\u001b[0m\u001b[1;33m*\u001b[0m\u001b[0minput\u001b[0m\u001b[1;33m,\u001b[0m \u001b[1;33m**\u001b[0m\u001b[0mkwargs\u001b[0m\u001b[1;33m)\u001b[0m\u001b[1;33m\u001b[0m\u001b[1;33m\u001b[0m\u001b[0m\n\u001b[0;32m    492\u001b[0m         \u001b[1;32melse\u001b[0m\u001b[1;33m:\u001b[0m\u001b[1;33m\u001b[0m\u001b[1;33m\u001b[0m\u001b[0m\n\u001b[1;32m--> 493\u001b[1;33m             \u001b[0mresult\u001b[0m \u001b[1;33m=\u001b[0m \u001b[0mself\u001b[0m\u001b[1;33m.\u001b[0m\u001b[0mforward\u001b[0m\u001b[1;33m(\u001b[0m\u001b[1;33m*\u001b[0m\u001b[0minput\u001b[0m\u001b[1;33m,\u001b[0m \u001b[1;33m**\u001b[0m\u001b[0mkwargs\u001b[0m\u001b[1;33m)\u001b[0m\u001b[1;33m\u001b[0m\u001b[1;33m\u001b[0m\u001b[0m\n\u001b[0m\u001b[0;32m    494\u001b[0m         \u001b[1;32mfor\u001b[0m \u001b[0mhook\u001b[0m \u001b[1;32min\u001b[0m \u001b[0mself\u001b[0m\u001b[1;33m.\u001b[0m\u001b[0m_forward_hooks\u001b[0m\u001b[1;33m.\u001b[0m\u001b[0mvalues\u001b[0m\u001b[1;33m(\u001b[0m\u001b[1;33m)\u001b[0m\u001b[1;33m:\u001b[0m\u001b[1;33m\u001b[0m\u001b[1;33m\u001b[0m\u001b[0m\n\u001b[0;32m    495\u001b[0m             \u001b[0mhook_result\u001b[0m \u001b[1;33m=\u001b[0m \u001b[0mhook\u001b[0m\u001b[1;33m(\u001b[0m\u001b[0mself\u001b[0m\u001b[1;33m,\u001b[0m \u001b[0minput\u001b[0m\u001b[1;33m,\u001b[0m \u001b[0mresult\u001b[0m\u001b[1;33m)\u001b[0m\u001b[1;33m\u001b[0m\u001b[1;33m\u001b[0m\u001b[0m\n",
      "\u001b[1;32m~\\Anaconda3\\lib\\site-packages\\torch\\nn\\modules\\container.py\u001b[0m in \u001b[0;36mforward\u001b[1;34m(self, input)\u001b[0m\n\u001b[0;32m     90\u001b[0m     \u001b[1;32mdef\u001b[0m \u001b[0mforward\u001b[0m\u001b[1;33m(\u001b[0m\u001b[0mself\u001b[0m\u001b[1;33m,\u001b[0m \u001b[0minput\u001b[0m\u001b[1;33m)\u001b[0m\u001b[1;33m:\u001b[0m\u001b[1;33m\u001b[0m\u001b[1;33m\u001b[0m\u001b[0m\n\u001b[0;32m     91\u001b[0m         \u001b[1;32mfor\u001b[0m \u001b[0mmodule\u001b[0m \u001b[1;32min\u001b[0m \u001b[0mself\u001b[0m\u001b[1;33m.\u001b[0m\u001b[0m_modules\u001b[0m\u001b[1;33m.\u001b[0m\u001b[0mvalues\u001b[0m\u001b[1;33m(\u001b[0m\u001b[1;33m)\u001b[0m\u001b[1;33m:\u001b[0m\u001b[1;33m\u001b[0m\u001b[1;33m\u001b[0m\u001b[0m\n\u001b[1;32m---> 92\u001b[1;33m             \u001b[0minput\u001b[0m \u001b[1;33m=\u001b[0m \u001b[0mmodule\u001b[0m\u001b[1;33m(\u001b[0m\u001b[0minput\u001b[0m\u001b[1;33m)\u001b[0m\u001b[1;33m\u001b[0m\u001b[1;33m\u001b[0m\u001b[0m\n\u001b[0m\u001b[0;32m     93\u001b[0m         \u001b[1;32mreturn\u001b[0m \u001b[0minput\u001b[0m\u001b[1;33m\u001b[0m\u001b[1;33m\u001b[0m\u001b[0m\n\u001b[0;32m     94\u001b[0m \u001b[1;33m\u001b[0m\u001b[0m\n",
      "\u001b[1;32m~\\Anaconda3\\lib\\site-packages\\torch\\nn\\modules\\module.py\u001b[0m in \u001b[0;36m__call__\u001b[1;34m(self, *input, **kwargs)\u001b[0m\n\u001b[0;32m    491\u001b[0m             \u001b[0mresult\u001b[0m \u001b[1;33m=\u001b[0m \u001b[0mself\u001b[0m\u001b[1;33m.\u001b[0m\u001b[0m_slow_forward\u001b[0m\u001b[1;33m(\u001b[0m\u001b[1;33m*\u001b[0m\u001b[0minput\u001b[0m\u001b[1;33m,\u001b[0m \u001b[1;33m**\u001b[0m\u001b[0mkwargs\u001b[0m\u001b[1;33m)\u001b[0m\u001b[1;33m\u001b[0m\u001b[1;33m\u001b[0m\u001b[0m\n\u001b[0;32m    492\u001b[0m         \u001b[1;32melse\u001b[0m\u001b[1;33m:\u001b[0m\u001b[1;33m\u001b[0m\u001b[1;33m\u001b[0m\u001b[0m\n\u001b[1;32m--> 493\u001b[1;33m             \u001b[0mresult\u001b[0m \u001b[1;33m=\u001b[0m \u001b[0mself\u001b[0m\u001b[1;33m.\u001b[0m\u001b[0mforward\u001b[0m\u001b[1;33m(\u001b[0m\u001b[1;33m*\u001b[0m\u001b[0minput\u001b[0m\u001b[1;33m,\u001b[0m \u001b[1;33m**\u001b[0m\u001b[0mkwargs\u001b[0m\u001b[1;33m)\u001b[0m\u001b[1;33m\u001b[0m\u001b[1;33m\u001b[0m\u001b[0m\n\u001b[0m\u001b[0;32m    494\u001b[0m         \u001b[1;32mfor\u001b[0m \u001b[0mhook\u001b[0m \u001b[1;32min\u001b[0m \u001b[0mself\u001b[0m\u001b[1;33m.\u001b[0m\u001b[0m_forward_hooks\u001b[0m\u001b[1;33m.\u001b[0m\u001b[0mvalues\u001b[0m\u001b[1;33m(\u001b[0m\u001b[1;33m)\u001b[0m\u001b[1;33m:\u001b[0m\u001b[1;33m\u001b[0m\u001b[1;33m\u001b[0m\u001b[0m\n\u001b[0;32m    495\u001b[0m             \u001b[0mhook_result\u001b[0m \u001b[1;33m=\u001b[0m \u001b[0mhook\u001b[0m\u001b[1;33m(\u001b[0m\u001b[0mself\u001b[0m\u001b[1;33m,\u001b[0m \u001b[0minput\u001b[0m\u001b[1;33m,\u001b[0m \u001b[0mresult\u001b[0m\u001b[1;33m)\u001b[0m\u001b[1;33m\u001b[0m\u001b[1;33m\u001b[0m\u001b[0m\n",
      "\u001b[1;32m~\\Anaconda3\\lib\\site-packages\\torch\\nn\\modules\\linear.py\u001b[0m in \u001b[0;36mforward\u001b[1;34m(self, input)\u001b[0m\n\u001b[0;32m     90\u001b[0m     \u001b[1;33m@\u001b[0m\u001b[0mweak_script_method\u001b[0m\u001b[1;33m\u001b[0m\u001b[1;33m\u001b[0m\u001b[0m\n\u001b[0;32m     91\u001b[0m     \u001b[1;32mdef\u001b[0m \u001b[0mforward\u001b[0m\u001b[1;33m(\u001b[0m\u001b[0mself\u001b[0m\u001b[1;33m,\u001b[0m \u001b[0minput\u001b[0m\u001b[1;33m)\u001b[0m\u001b[1;33m:\u001b[0m\u001b[1;33m\u001b[0m\u001b[1;33m\u001b[0m\u001b[0m\n\u001b[1;32m---> 92\u001b[1;33m         \u001b[1;32mreturn\u001b[0m \u001b[0mF\u001b[0m\u001b[1;33m.\u001b[0m\u001b[0mlinear\u001b[0m\u001b[1;33m(\u001b[0m\u001b[0minput\u001b[0m\u001b[1;33m,\u001b[0m \u001b[0mself\u001b[0m\u001b[1;33m.\u001b[0m\u001b[0mweight\u001b[0m\u001b[1;33m,\u001b[0m \u001b[0mself\u001b[0m\u001b[1;33m.\u001b[0m\u001b[0mbias\u001b[0m\u001b[1;33m)\u001b[0m\u001b[1;33m\u001b[0m\u001b[1;33m\u001b[0m\u001b[0m\n\u001b[0m\u001b[0;32m     93\u001b[0m \u001b[1;33m\u001b[0m\u001b[0m\n\u001b[0;32m     94\u001b[0m     \u001b[1;32mdef\u001b[0m \u001b[0mextra_repr\u001b[0m\u001b[1;33m(\u001b[0m\u001b[0mself\u001b[0m\u001b[1;33m)\u001b[0m\u001b[1;33m:\u001b[0m\u001b[1;33m\u001b[0m\u001b[1;33m\u001b[0m\u001b[0m\n",
      "\u001b[1;32m~\\Anaconda3\\lib\\site-packages\\torch\\nn\\functional.py\u001b[0m in \u001b[0;36mlinear\u001b[1;34m(input, weight, bias)\u001b[0m\n\u001b[0;32m   1404\u001b[0m     \u001b[1;32mif\u001b[0m \u001b[0minput\u001b[0m\u001b[1;33m.\u001b[0m\u001b[0mdim\u001b[0m\u001b[1;33m(\u001b[0m\u001b[1;33m)\u001b[0m \u001b[1;33m==\u001b[0m \u001b[1;36m2\u001b[0m \u001b[1;32mand\u001b[0m \u001b[0mbias\u001b[0m \u001b[1;32mis\u001b[0m \u001b[1;32mnot\u001b[0m \u001b[1;32mNone\u001b[0m\u001b[1;33m:\u001b[0m\u001b[1;33m\u001b[0m\u001b[1;33m\u001b[0m\u001b[0m\n\u001b[0;32m   1405\u001b[0m         \u001b[1;31m# fused op is marginally faster\u001b[0m\u001b[1;33m\u001b[0m\u001b[1;33m\u001b[0m\u001b[1;33m\u001b[0m\u001b[0m\n\u001b[1;32m-> 1406\u001b[1;33m         \u001b[0mret\u001b[0m \u001b[1;33m=\u001b[0m \u001b[0mtorch\u001b[0m\u001b[1;33m.\u001b[0m\u001b[0maddmm\u001b[0m\u001b[1;33m(\u001b[0m\u001b[0mbias\u001b[0m\u001b[1;33m,\u001b[0m \u001b[0minput\u001b[0m\u001b[1;33m,\u001b[0m \u001b[0mweight\u001b[0m\u001b[1;33m.\u001b[0m\u001b[0mt\u001b[0m\u001b[1;33m(\u001b[0m\u001b[1;33m)\u001b[0m\u001b[1;33m)\u001b[0m\u001b[1;33m\u001b[0m\u001b[1;33m\u001b[0m\u001b[0m\n\u001b[0m\u001b[0;32m   1407\u001b[0m     \u001b[1;32melse\u001b[0m\u001b[1;33m:\u001b[0m\u001b[1;33m\u001b[0m\u001b[1;33m\u001b[0m\u001b[0m\n\u001b[0;32m   1408\u001b[0m         \u001b[0moutput\u001b[0m \u001b[1;33m=\u001b[0m \u001b[0minput\u001b[0m\u001b[1;33m.\u001b[0m\u001b[0mmatmul\u001b[0m\u001b[1;33m(\u001b[0m\u001b[0mweight\u001b[0m\u001b[1;33m.\u001b[0m\u001b[0mt\u001b[0m\u001b[1;33m(\u001b[0m\u001b[1;33m)\u001b[0m\u001b[1;33m)\u001b[0m\u001b[1;33m\u001b[0m\u001b[1;33m\u001b[0m\u001b[0m\n",
      "\u001b[1;31mRuntimeError\u001b[0m: Expected object of backend CPU but got backend CUDA for argument #4 'mat1'"
     ]
    }
   ],
   "source": [
    "summary(encoder, input_size=(28 * 28,))"
   ]
  },
  {
   "cell_type": "code",
   "execution_count": 48,
   "metadata": {
    "scrolled": true
   },
   "outputs": [
    {
     "name": "stdout",
     "output_type": "stream",
     "text": [
      "[[[-6.78585071e-02  1.78117656e-02 -7.20868112e-03  8.46867869e-02\n",
      "   -3.18339767e-02  6.24732989e-03 -2.42707438e-02 -4.46353180e-02]\n",
      "  [ 2.62399358e-01 -9.47407240e-02  3.94976471e-02 -9.78486023e-02\n",
      "    6.62962250e-02  2.64429538e-02  7.87796514e-02 -3.93971494e-02]\n",
      "  [-4.20314937e-02 -2.17390872e-02  1.01371850e-01  3.44254246e-02\n",
      "    1.00162936e-01  1.49950090e-01 -1.65052160e-01  6.41760634e-03]\n",
      "  [-3.02023615e-01 -5.90971181e-02 -1.06066674e-01  5.24614749e-02\n",
      "    8.99245202e-02 -4.93045484e-02  4.10534633e-02  2.07723163e-02]\n",
      "  [-2.05823476e-01  6.44673815e-02  5.28275671e-02 -1.16312905e-01\n",
      "   -8.26997459e-02  5.24263870e-02  1.61978660e-01 -7.13220520e-02]\n",
      "  [-4.55717809e-02 -1.16163263e-01  1.21757804e-01 -2.81185602e-02\n",
      "    1.28837773e-01  8.85650475e-04 -2.45248579e-02 -1.26278815e-02]\n",
      "  [ 2.26244046e-02  7.26471232e-02  1.99324757e-02  4.73620969e-02\n",
      "    1.20350539e-02  3.31280123e-02 -8.37454365e-03 -9.51703066e-02]\n",
      "  [-5.62277835e-02  1.39482513e-01  1.01057511e-01 -2.61051460e-03\n",
      "   -4.15482394e-02 -4.62763733e-03  9.34250017e-02 -4.28961385e-03]\n",
      "  [ 4.67623063e-02 -1.08887755e-01 -9.22190756e-02 -2.42871482e-02\n",
      "   -2.97300527e-02 -1.28309171e-01 -1.22714336e-01  5.33177448e-03]\n",
      "  [ 2.26997328e-02  2.36776400e-02  2.83566081e-02  1.22124614e-01\n",
      "   -2.97812019e-02  9.96865972e-03 -2.21333153e-01 -8.30177360e-02]]\n",
      "\n",
      " [[-1.58167955e-02 -1.14310544e-01  2.81373058e-02  1.73056727e-01\n",
      "   -7.64050004e-02  2.35216429e-02  1.45154579e-02  1.53089783e-01]\n",
      "  [-7.25025814e-02 -1.63907515e-01 -2.56883858e-02 -9.03265363e-02\n",
      "   -2.95471142e-03  5.58847731e-02 -1.09034005e-01 -1.50738593e-02]\n",
      "  [ 3.91691997e-02  1.42332361e-01 -1.52385489e-02 -2.16767546e-02\n",
      "   -4.39177447e-02  1.12311367e-01  1.39733569e-01  8.96054646e-02]\n",
      "  [ 3.20824265e-02  6.57965249e-02  3.53611375e-03 -3.39703459e-03\n",
      "    1.33513989e-01  5.86010311e-02 -3.88363999e-03  5.58739564e-02]\n",
      "  [ 2.11436709e-01 -1.88641762e-01  1.79158654e-01 -1.62671292e-01\n",
      "    1.58246454e-02  6.16539733e-02  2.57531059e-03  5.84098243e-02]\n",
      "  [ 1.51409859e-01  2.64310374e-02 -8.15638395e-02  7.06836019e-02\n",
      "    9.18769372e-02  1.16599701e-01  1.65415379e-01 -4.03713063e-02]\n",
      "  [ 3.66331706e-02  5.88793366e-02 -6.87156060e-03  6.90730914e-02\n",
      "    1.73528304e-01  1.16580253e-01 -7.16908317e-04  4.82497118e-02]\n",
      "  [-4.24360466e-02  4.36805543e-02  1.33185624e-02  8.82693894e-02\n",
      "   -1.19654660e-01  1.79543225e-01  8.55509951e-02  1.98099022e-04]\n",
      "  [ 1.47410283e-01  2.11060812e-01 -1.44129808e-01 -1.44201896e-03\n",
      "   -2.05645171e-02 -1.48237339e-02  1.46154773e-01  2.74720826e-02]\n",
      "  [ 1.50714581e-01 -4.12603970e-02  2.91878631e-02  9.89617405e-02\n",
      "   -3.58862016e-02  1.69149831e-02 -4.74708396e-02 -3.95199080e-02]]\n",
      "\n",
      " [[ 4.26756546e-02  6.59240167e-02 -5.71543176e-02 -9.26482692e-03\n",
      "   -3.06896968e-03  4.31811611e-02  1.33301378e-01  7.57895311e-02]\n",
      "  [ 1.13252845e-01  2.27263229e-02  5.78082627e-02 -1.76658367e-02\n",
      "   -7.04635174e-02  7.00027289e-03  6.46383107e-02  2.78101635e-02]\n",
      "  [ 1.76261117e-01 -1.31479151e-01  1.23617772e-01  2.57284626e-02\n",
      "   -1.29027180e-01  5.29967815e-02  1.54257970e-01 -3.70600708e-02]\n",
      "  [-3.02421785e-03 -1.57817504e-03 -8.87313900e-03 -5.54959037e-02\n",
      "    7.66074374e-02 -7.50725760e-02  5.00452238e-02  1.57810016e-01]\n",
      "  [-2.96815824e-02  5.60612378e-02  2.11984150e-02 -1.33271326e-01\n",
      "    1.02989643e-01  6.03377090e-02  1.68665651e-01 -1.72231260e-01]\n",
      "  [-1.46977573e-01  1.54434532e-01  7.16252803e-02  8.84568937e-02\n",
      "    6.41367934e-02  5.44002028e-02  8.43214183e-02 -3.03433448e-03]\n",
      "  [-2.39215606e-02  1.16068956e-01 -2.39481507e-02 -2.62566169e-02\n",
      "   -3.28541718e-02 -2.08521757e-01 -1.68655697e-01 -9.26747125e-02]\n",
      "  [ 6.82394307e-02 -2.23569623e-02  1.48809661e-01  8.10288153e-02\n",
      "    5.32014233e-02 -8.33159277e-02  4.91873040e-02 -1.02123773e-01]\n",
      "  [ 6.19403924e-02  4.03132041e-02  7.43702811e-02  7.62010468e-03\n",
      "   -8.52499731e-02 -1.87940877e-01 -2.46833106e-01  1.38853054e-01]\n",
      "  [ 9.30377878e-02  1.66095559e-01  3.10868150e-02  6.15773652e-02\n",
      "   -2.33545487e-02  2.29512274e-01  7.16156709e-02 -1.56250540e-01]]\n",
      "\n",
      " [[-8.14110483e-03 -3.95936986e-02  2.23272956e-01 -1.07863244e-01\n",
      "    1.70935499e-01  1.89376540e-02  1.50495109e-02 -7.26213023e-02]\n",
      "  [-9.53500740e-02  3.33245777e-02 -7.91560475e-02  6.65935550e-02\n",
      "    5.45727590e-02  2.55405212e-03  1.12268425e-01  1.55750288e-01]\n",
      "  [-1.03166102e-01  1.23503474e-01  8.42173608e-02 -1.08165722e-01\n",
      "    1.09277754e-01 -2.00366767e-02 -5.25666145e-02 -5.81640263e-02]\n",
      "  [-2.19149175e-01  7.89436156e-02  7.01760468e-03  1.10547797e-02\n",
      "   -5.08153515e-02  3.23297939e-02 -1.02013842e-01 -5.52194660e-02]\n",
      "  [-5.91214264e-02 -1.79411055e-01  2.01218563e-01  3.55274917e-02\n",
      "    4.53873834e-02 -4.16271199e-02  6.10383577e-02  1.73423364e-02]\n",
      "  [ 7.43638927e-02 -1.12208056e-01  2.74350252e-02 -1.08085295e-02\n",
      "    3.41773657e-02  8.09316197e-02 -1.38533410e-01  5.41232551e-02]\n",
      "  [ 9.96198465e-02  7.73468921e-02 -1.64064443e-01 -3.63135979e-03\n",
      "   -1.90017588e-01  1.04320136e-01  6.32042185e-03 -2.23807667e-01]\n",
      "  [-9.91098036e-02  3.57248583e-02  6.05014936e-02  1.75063580e-01\n",
      "   -1.58396759e-02  6.71818705e-02 -1.45616474e-01  9.43558029e-02]\n",
      "  [ 5.42213941e-02  1.18097481e-01  2.19569888e-01 -1.40516564e-01\n",
      "    1.47142287e-01 -9.53552952e-02  7.39596280e-02 -1.21551718e-02]\n",
      "  [-6.46351819e-02  3.28221161e-02  5.79577472e-03  3.36624664e-02\n",
      "    7.99485662e-02  2.62888848e-02 -1.92085031e-02 -1.16784350e-01]]\n",
      "\n",
      " [[-1.15560771e-01  1.16889467e-01 -1.11247969e-01 -1.43093845e-02\n",
      "    3.29863859e-02 -1.60294469e-01 -6.14957057e-02 -3.78775168e-04]\n",
      "  [ 2.52001943e-02  8.85498584e-03  7.66089719e-02  1.13205066e-01\n",
      "   -9.74293024e-02  2.66861410e-02  1.93770925e-02 -1.11512892e-01]\n",
      "  [-1.48526526e-02 -2.23074229e-02  5.48570594e-02  3.11610913e-02\n",
      "   -1.72848021e-01 -8.77210821e-02  7.72370988e-02 -9.29861244e-02]\n",
      "  [-4.20744157e-02  4.83260552e-02  3.41631587e-02  1.77413039e-01\n",
      "   -7.39994420e-02 -9.40145640e-03 -7.77631524e-02  1.79774297e-01]\n",
      "  [ 9.34140107e-02 -5.23759880e-02  1.07418418e-01  1.20007840e-01\n",
      "    1.71207966e-01  1.65880516e-01  5.55522801e-02 -6.42138215e-02]\n",
      "  [ 7.46229219e-02 -1.24996023e-01  8.35389722e-02 -7.68514761e-02\n",
      "   -5.54102858e-02 -1.69858106e-01  1.34823471e-02 -7.85548265e-02]\n",
      "  [-1.61578351e-01 -8.45781299e-02  4.84843912e-03 -1.99032560e-01\n",
      "    1.08587489e-01 -1.25576725e-02  4.38913846e-02  7.61648670e-02]\n",
      "  [ 7.09878523e-02  1.21055682e-01 -1.27659561e-01 -4.34474808e-02\n",
      "   -4.60064635e-02 -2.99883875e-01 -1.04910503e-01 -2.76069504e-02]\n",
      "  [ 7.47637871e-02  4.81524937e-03  7.91078480e-02  2.49736817e-02\n",
      "    6.89733809e-02 -8.41087707e-02 -1.61537351e-02  1.01728061e-02]\n",
      "  [ 2.08288651e-01 -1.44264414e-01  4.35398558e-02 -7.47732507e-02\n",
      "   -5.65189366e-02 -3.12573825e-02  1.75266114e-01  2.88889091e-01]]\n",
      "\n",
      " [[-1.46886349e-01  7.47833999e-02  1.02234404e-03  2.06514302e-01\n",
      "    8.25930297e-02  4.83492568e-02  6.33918270e-02  9.80907176e-03]\n",
      "  [-9.75122339e-02  1.02692150e-01 -1.55884428e-02  1.87579980e-02\n",
      "    1.42617714e-01  6.55131190e-02 -6.13677620e-02  8.38730101e-02]\n",
      "  [ 1.66166589e-01  7.57728210e-02 -2.04164721e-01  1.03504604e-01\n",
      "    7.18578628e-02  6.09545375e-02 -5.09821947e-02 -2.82629138e-02]\n",
      "  [ 5.98459269e-03 -5.27699672e-02  1.54806798e-01 -7.67452552e-02\n",
      "   -8.33073633e-02 -1.73132698e-02 -3.75904057e-01  3.17330782e-02]\n",
      "  [-1.14576339e-01  2.70648972e-02  1.02243810e-01 -1.70061595e-02\n",
      "    2.23051456e-02  4.26127212e-02  7.36693320e-02 -1.16653480e-01]\n",
      "  [ 1.43594560e-02 -1.20670881e-01 -4.01347213e-02  6.00577174e-02\n",
      "    1.61068190e-01  1.69436371e-02 -6.62964188e-02 -3.50326834e-02]\n",
      "  [ 1.24878079e-01 -3.90849145e-03  1.83430629e-01  1.37797217e-01\n",
      "    4.93509247e-02 -1.56828335e-01  1.08800005e-02  5.57114595e-02]\n",
      "  [-8.18963781e-02 -2.50569738e-02 -1.18282720e-02 -3.15453766e-03\n",
      "   -4.99159123e-02 -1.05613287e-01 -9.50464358e-02  4.90077425e-02]\n",
      "  [ 1.32194205e-01 -1.45720744e-02 -7.13306642e-02  8.22415394e-02\n",
      "    1.08265015e-01 -9.83265252e-02  1.38205077e-01 -1.21194462e-01]\n",
      "  [ 4.72603853e-03  8.86069022e-02  4.12787538e-02  3.65571283e-02\n",
      "    2.46101311e-02  7.76493826e-02 -9.82162066e-02  9.66819770e-03]]\n",
      "\n",
      " [[-1.75932998e-01  8.47034585e-02 -5.80239972e-02 -2.26346681e-02\n",
      "    5.76388820e-02 -2.33650761e-02 -1.70683590e-02 -1.22618219e-01]\n",
      "  [ 1.10041095e-01 -4.90419508e-02 -1.38160763e-01 -6.21049240e-02\n",
      "   -6.87585209e-02  1.55036454e-01  6.33928225e-02  9.59794666e-02]\n",
      "  [-1.62999704e-01  1.47526128e-02  4.45898624e-02 -3.89128779e-02\n",
      "   -7.12948424e-03 -1.03103589e-01 -3.53435361e-02  1.06264491e-01]\n",
      "  [ 1.77518883e-01 -1.08157264e-01  1.21577212e-01 -8.93658191e-02\n",
      "    1.50742189e-01  2.02923381e-02 -9.44982831e-02  1.25900959e-03]\n",
      "  [-8.03479384e-02 -1.44738969e-01  4.29174897e-03 -5.95305360e-02\n",
      "    4.07718739e-02 -2.04708511e-02 -1.37589811e-02  8.18822198e-02]\n",
      "  [-1.10069008e-01 -5.72099566e-02 -6.02570082e-02 -5.76539096e-02\n",
      "    1.30941635e-02 -4.81649146e-02 -1.34909434e-01  6.20660852e-02]\n",
      "  [-1.21641878e-01 -2.14481535e-01  6.71734595e-02  1.19082204e-02\n",
      "   -2.71393549e-01 -1.48568872e-01  1.60864510e-01 -6.03273167e-02]\n",
      "  [ 1.39245906e-01  8.05624069e-02  1.74611831e-01  1.60349666e-03\n",
      "   -1.20947597e-01 -2.32972417e-02 -3.27226606e-02  3.48131554e-02]\n",
      "  [ 1.01486701e-01  8.48037153e-02  1.32406691e-01  1.06162757e-01\n",
      "    1.12545581e-01 -3.69083924e-02 -7.41768458e-02  3.88285470e-02]\n",
      "  [ 1.11929124e-01  2.57391200e-02  1.24176132e-01  2.18091857e-02\n",
      "   -5.63971724e-02  2.03580830e-01  2.77399941e-04 -2.10661272e-02]]\n",
      "\n",
      " [[-1.15231715e-03  1.17047731e-01  4.48347415e-02 -1.10632910e-01\n",
      "    7.83490209e-02 -5.03308530e-02 -1.21497144e-01 -1.11384568e-01]\n",
      "  [-1.30074345e-01 -5.43031617e-02  1.42748053e-01  1.14614663e-01\n",
      "   -7.73132034e-02 -4.09686867e-02  2.04490335e-01  5.68674679e-02]\n",
      "  [ 1.00101909e-02 -3.03145481e-02 -9.92915522e-02 -6.92636911e-02\n",
      "    5.46622527e-02 -7.13182931e-02  1.03429548e-02 -1.00810346e-01]\n",
      "  [ 1.27522348e-01  1.20321692e-02  8.00334028e-02  1.24480803e-02\n",
      "   -1.17494838e-02 -2.05393446e-01  4.05920903e-02 -1.07476820e-02]\n",
      "  [ 1.14662745e-01  7.94440855e-02  5.99469770e-02  1.39045640e-02\n",
      "   -1.94794436e-01  9.95503553e-04  5.27305327e-02  1.27508591e-01]\n",
      "  [-1.01508475e-01 -1.84234220e-02  3.92521476e-02  2.05252000e-01\n",
      "   -8.17255194e-02 -1.20966838e-01  4.23408436e-03 -1.00473713e-02]\n",
      "  [ 7.14437158e-02  1.30699944e-01 -8.66888359e-02 -1.88361521e-01\n",
      "    1.44669339e-01 -2.86351394e-03  1.67537928e-02  6.61749910e-02]\n",
      "  [-9.55678633e-02 -9.45678053e-02  4.73221199e-02 -1.77124330e-02\n",
      "    2.90816669e-02 -2.07919132e-01  1.36818952e-01 -9.46976166e-02]\n",
      "  [ 6.56361183e-02  1.55634176e-01 -1.35768446e-01  1.45417758e-02\n",
      "    2.50435000e-01  1.49186007e-01  3.58741710e-02  4.35193209e-02]\n",
      "  [-4.09923697e-02 -1.26060811e-01 -2.62746085e-02  4.46969208e-02\n",
      "    9.78709528e-02 -8.25515319e-02 -1.03982647e-01 -1.67314502e-01]]\n",
      "\n",
      " [[ 1.26814792e-01  2.02657123e-01 -1.79250016e-03  1.29179127e-01\n",
      "   -3.96976107e-02  2.23257635e-01  9.62113910e-02  5.63674618e-02]\n",
      "  [-5.47137059e-02 -5.57355340e-02  1.20589863e-01  3.92879642e-02\n",
      "    1.78193996e-01  9.56100599e-02 -1.17376686e-01  9.15224910e-02]\n",
      "  [-1.53595068e-01 -7.92260765e-03 -2.89246470e-02 -3.88141884e-02\n",
      "   -1.45768360e-01 -2.88365723e-02 -4.93988359e-02  2.55255209e-02]\n",
      "  [ 7.84989736e-02 -3.42474326e-03  2.08305449e-01  1.26411401e-01\n",
      "   -1.70587714e-02 -6.31987136e-02 -1.18923409e-01  2.56434986e-02]\n",
      "  [ 9.95115444e-02  1.13390551e-01  1.01072278e-01 -1.39568886e-01\n",
      "   -1.91320358e-02 -8.69258109e-02  1.75149898e-02 -7.44143222e-02]\n",
      "  [ 1.28563619e-01 -1.59826619e-01  1.29219090e-02  4.21436432e-02\n",
      "   -4.85961167e-02  1.94446908e-01  7.75720404e-02 -1.30179628e-01]\n",
      "  [ 8.33376982e-02 -6.63233984e-02 -8.78566394e-02 -9.95137233e-02\n",
      "   -1.60770838e-02 -4.62878176e-02  1.91438335e-01  6.17873081e-02]\n",
      "  [-5.30905373e-02  2.14815143e-01 -9.79403532e-02  3.37549038e-02\n",
      "    2.01765539e-02 -9.87626112e-02 -1.03272190e-01  2.65373769e-01]\n",
      "  [-3.36600589e-02 -2.54369832e-01 -1.22146468e-02  1.04789027e-02\n",
      "    9.67910966e-02  6.06745111e-02  1.91685858e-01 -7.36761506e-03]\n",
      "  [ 2.34691107e-02  2.22594641e-02  1.42020881e-02 -3.64254976e-02\n",
      "   -6.82925017e-02  3.84456337e-02  4.07785619e-02 -1.15851435e-01]]\n",
      "\n",
      " [[-3.20345248e-02 -7.79186144e-02  1.12614774e-01  1.36993011e-02\n",
      "    4.43274680e-02 -2.31790560e-02 -1.26989141e-01  1.76466815e-02]\n",
      "  [ 7.43062312e-02  2.25651548e-01 -1.25297548e-01 -4.03411008e-02\n",
      "    8.46104099e-02  1.08639604e-01  9.89966567e-02  3.56017183e-02]\n",
      "  [-7.24060255e-02  2.81300229e-02 -8.55043597e-02 -1.43122211e-01\n",
      "   -3.09296857e-02 -1.19579954e-01  6.65944172e-02  1.11414202e-02]\n",
      "  [ 1.84715688e-01 -1.59212599e-01  3.56978894e-02 -1.73775327e-01\n",
      "    1.79261464e-02 -1.29640542e-01  8.88200503e-04  3.02237554e-02]\n",
      "  [-8.80680726e-02 -5.99431371e-02 -9.87497435e-02  2.00031606e-02\n",
      "   -2.13157249e-01 -1.07302166e-01  9.74472780e-02 -2.13755829e-01]\n",
      "  [ 1.23159913e-01 -2.13351370e-02 -8.89192660e-02 -4.91497079e-03\n",
      "   -9.57464123e-02  1.29013811e-01  8.01283921e-03 -4.06147493e-02]\n",
      "  [ 1.39935279e-01 -1.73546800e-02  1.65102916e-01 -1.02181809e-01\n",
      "   -3.16291579e-02 -4.89356688e-02 -1.24413753e-02  9.15159035e-02]\n",
      "  [-1.22510433e-01 -7.00807422e-02 -5.17020311e-02 -4.58751103e-02\n",
      "    4.77296428e-02 -3.26573347e-02  8.20652338e-03 -1.24087804e-01]\n",
      "  [ 4.07718726e-02  1.04189254e-01  1.01765836e-01  2.97288404e-03\n",
      "    1.10600112e-01  5.57499028e-02  4.81248032e-02  1.69144189e-01]\n",
      "  [-9.62499609e-02  7.65537963e-02 -1.01435817e-01  1.24668428e-01\n"
     ]
    },
    {
     "name": "stdout",
     "output_type": "stream",
     "text": [
      "    8.94447540e-02 -3.90337219e-02 -2.74642511e-02  5.88405619e-02]]]\n",
      "float64\n",
      "[0. 0. 0. 0. 0. 0. 0. 0. 0. 0.]\n"
     ]
    }
   ],
   "source": [
    "thetas = 1/ENCODING_SIZE*np.random.randn(2 * NUM_QUBITS*NUM_LAYERS*NUM_CLASSES)\n",
    "bias = np.zeros(NUM_CLASSES)\n",
    "thetas = thetas.reshape(NUM_CLASSES, NUM_LAYERS, 2*NUM_QUBITS)\n",
    "init_thetas = thetas.copy()\n",
    "init_bias = bias.copy()\n",
    "print(thetas)\n",
    "print(thetas.dtype)\n",
    "print(bias)"
   ]
  },
  {
   "cell_type": "code",
   "execution_count": 49,
   "metadata": {
    "scrolled": true
   },
   "outputs": [
    {
     "name": "stdout",
     "output_type": "stream",
     "text": [
      "torch.Size([16, 1, 28, 28])\n",
      "16\n",
      "tensor([[34.0791, 16.3503,  0.0000,  6.2933, 15.7613,  8.4485, 13.8792,  8.8617,\n",
      "         15.9863,  0.0000]])\n",
      "torch.Size([1, 10])\n",
      "[ 0.164 -0.134  0.254 -0.204]\n"
     ]
    }
   ],
   "source": [
    "# this is the transformation that you need to do in order\n",
    "# to pass it to the encoder. it is (1, -1) since the first number\n",
    "# is the batch size, which in our case is 1\n",
    "enums = enumerate(train_loader, 0)\n",
    "i, data = next(enums)\n",
    "inputs, labels = data\n",
    "print(inputs.size())\n",
    "print(len(labels))\n",
    "print(encoder(inputs[0].view(1, -1)))\n",
    "print(encoder(inputs[0].view(1, -1)).size())\n",
    "print(circuit_tighten(inputs[0].view(1, -1).numpy(), MASK, thetas[0]))"
   ]
  },
  {
   "cell_type": "code",
   "execution_count": 50,
   "metadata": {
    "scrolled": true
   },
   "outputs": [
    {
     "name": "stdout",
     "output_type": "stream",
     "text": [
      "torch.Size([16, 10])\n",
      "torch.Size([16])\n",
      "(10, 10, 8)\n",
      "298.378751039505\n"
     ]
    }
   ],
   "source": [
    "# Using normal qml.grad\n",
    "X = encoder(inputs.view(len(labels), -1))\n",
    "print(X.size())\n",
    "print(labels.size())\n",
    "print(thetas.shape)\n",
    "start = time.time()\n",
    "dcost = qml.grad(cost, argnum=[2, 3])\n",
    "theta_grad, bias_grad = dcost(X.numpy(), labels.numpy(), thetas, bias) \n",
    "print(time.time() - start)"
   ]
  },
  {
   "cell_type": "code",
   "execution_count": 51,
   "metadata": {},
   "outputs": [
    {
     "name": "stdout",
     "output_type": "stream",
     "text": [
      "[6, 3, 6, 9, 7, 6, 5, 6, 0, 9, 7, 6, 7, 1, 7, 3]\n",
      "[9, 7, 0, 3, 7, 6, 7, 7, 9, 5, 1, 3, 0, 0, 6, 6]\n"
     ]
    },
    {
     "data": {
      "text/plain": [
       "0.1875"
      ]
     },
     "execution_count": 51,
     "metadata": {},
     "output_type": "execute_result"
    }
   ],
   "source": [
    "def accuracy(thetas, bias, number_batches=2):\n",
    "    correct = 0\n",
    "    total = 0\n",
    "    for i, data in enumerate(test_loader, 0):\n",
    "        if i == number_batches:\n",
    "            break\n",
    "        inputs, labels = data\n",
    "        inputs = encoder(inputs.view(len(labels), -1)).numpy()\n",
    "        predicted = []\n",
    "        for image in inputs:\n",
    "            scores = []\n",
    "            for i in range(NUM_CLASSES):\n",
    "                scores.append(np.mean(circuit_tighten(image, MASK, thetas[i]) + bias[i]))\n",
    "            predicted.append(np.argmax(scores))\n",
    "        correct += (np.asarray(predicted) == labels.numpy()).sum()\n",
    "        total += len(predicted)\n",
    "        print(predicted)\n",
    "    return(correct / total)\n",
    "# have done no training, so should be around 10%\n",
    "accuracy(thetas, bias)"
   ]
  },
  {
   "cell_type": "code",
   "execution_count": 64,
   "metadata": {},
   "outputs": [],
   "source": [
    "accuracies = []\n",
    "losses = []"
   ]
  },
  {
   "cell_type": "code",
   "execution_count": 65,
   "metadata": {},
   "outputs": [],
   "source": [
    "# Overfit like crazy on the first 16 examples\n",
    "# Five minutes a batch\n",
    "overfit = []\n",
    "for i, data in enumerate(train_loader, 0):\n",
    "    overfit.append((i, data))\n",
    "    if i == 0:\n",
    "        break"
   ]
  },
  {
   "cell_type": "code",
   "execution_count": 78,
   "metadata": {},
   "outputs": [
    {
     "name": "stdout",
     "output_type": "stream",
     "text": [
      "[3, 8, 3, 0, 0, 3, 2, 3, 0, 2, 0, 0, 3, 3, 0, 5]\n",
      "[2, 5, 5, 8, 0, 3, 5, 0, 3, 5, 2, 5, 5, 5, 0, 3]\n",
      "1 batches took 331.432343 seconds and has accuracy 0.093750, with train loss 1.832432\n",
      "[3, 8, 3, 0, 0, 3, 8, 3, 0, 2, 0, 0, 3, 8, 0, 5]\n",
      "[2, 5, 5, 8, 0, 3, 5, 0, 3, 5, 2, 5, 5, 5, 0, 3]\n",
      "1 batches took 665.513576 seconds and has accuracy 0.093750, with train loss 1.830845\n",
      "[3, 8, 3, 0, 0, 3, 2, 3, 0, 2, 0, 0, 3, 8, 0, 5]\n",
      "[2, 5, 5, 8, 0, 3, 5, 0, 3, 5, 2, 5, 5, 5, 0, 3]\n",
      "1 batches took 996.357459 seconds and has accuracy 0.093750, with train loss 1.828978\n",
      "[3, 8, 3, 0, 0, 3, 8, 3, 0, 2, 0, 0, 3, 8, 0, 5]\n",
      "[2, 5, 5, 8, 0, 3, 5, 0, 3, 5, 2, 5, 5, 5, 0, 3]\n",
      "1 batches took 1329.855259 seconds and has accuracy 0.093750, with train loss 1.824682\n"
     ]
    }
   ],
   "source": [
    "etas = [1e-2]\n",
    "start = time.time()\n",
    "for eta in etas:\n",
    "    for epoch in range(4):\n",
    "        for i, data in overfit:\n",
    "            inputs, labels = data\n",
    "            X = encoder(inputs.view(len(labels), -1))\n",
    "            dcost = qml.grad(cost, argnum=[2,3])\n",
    "            theta_grad, bias_grad = dcost(X.numpy(), labels.numpy(), thetas, bias)\n",
    "            loss = cost(X.numpy(), labels.numpy(), thetas, bias)\n",
    "            losses.append(loss)\n",
    "            thetas -= eta * theta_grad\n",
    "            bias -= eta * bias_grad\n",
    "            acc = accuracy(thetas, bias)\n",
    "            accuracies.append(acc)\n",
    "            print(\"%d batches took %f seconds and has accuracy %f, with train loss %f\" % (i + 1, time.time() - start, acc, loss))\n",
    "            if i == 1:\n",
    "                break"
   ]
  },
  {
   "cell_type": "code",
   "execution_count": 79,
   "metadata": {},
   "outputs": [
    {
     "data": {
      "image/png": "[encoded data removed]",
      "text/plain": [
       "<Figure size 432x288 with 1 Axes>"
      ]
     },
     "metadata": {
      "needs_background": "light"
     },
     "output_type": "display_data"
    },
    {
     "name": "stdout",
     "output_type": "stream",
     "text": [
      "[ 0.26158293 -0.3570366   0.21397489  0.26793371  0.17676492  0.17963767\n",
      " -0.36263504 -0.25967539  0.14492601 -0.2654731 ]\n",
      "3.037363042400416\n"
     ]
    }
   ],
   "source": [
    "plt.plot(losses)\n",
    "plt.show()\n",
    "print(bias)\n",
    "diff_thetas = thetas - init_thetas\n",
    "print(np.sqrt(np.sum(diff_thetas*diff_thetas)))"
   ]
  },
  {
   "cell_type": "code",
   "execution_count": 83,
   "metadata": {},
   "outputs": [
    {
     "name": "stdout",
     "output_type": "stream",
     "text": [
      "tensor([2, 3, 8, 3, 5, 8, 2, 9, 5, 4, 1, 4, 7, 0, 0, 6])\n",
      "[2, 3, 5, 8, 5, 8, 2, 5, 5, 4, 1, 4, 3, 0, 3, 3]\n",
      "0.625\n"
     ]
    }
   ],
   "source": [
    "# Peek at train accuracy:\n",
    "for i, data in overfit:\n",
    "    inputs, labels = data\n",
    "    inputs = encoder(inputs.view(len(labels), -1)).numpy()\n",
    "    predicted = []\n",
    "    correct = 0\n",
    "    total = 0\n",
    "    for image in inputs:\n",
    "        scores = []\n",
    "        for i in range(NUM_CLASSES):\n",
    "            scores.append(np.mean(circuit_tighten(image, MASK, thetas[i]) + bias[i]))\n",
    "        predicted.append(np.argmax(scores))\n",
    "    correct += (np.asarray(predicted) == labels.numpy()).sum()\n",
    "    total += len(predicted)\n",
    "    print(labels)\n",
    "    print(predicted)\n",
    "    print(correct/total)\n",
    "over_fit_thetas = thetas.copy()\n",
    "over_fit_bias = bias.copy()\n",
    "over_fit_losses = losses.copy()"
   ]
  },
  {
   "cell_type": "code",
   "execution_count": 84,
   "metadata": {
    "scrolled": true
   },
   "outputs": [
    {
     "name": "stdout",
     "output_type": "stream",
     "text": [
      "tensor([2, 3, 8, 3, 5, 8, 2, 9, 5, 4, 1, 4, 7, 0, 0, 6])\n",
      "[3, 8, 3, 0, 0, 3, 8, 3, 0, 7, 0, 0, 3, 3, 0, 5]\n",
      "[8, 5, 5, 8, 0, 3, 5, 0, 3, 5, 5, 5, 5, 5, 0, 3]\n",
      "1 batches took 333.210537 seconds and has accuracy 0.093750, with train loss 2.238850\n",
      "tensor([0, 7, 0, 7, 3, 4, 0, 1, 1, 3, 5, 7, 5, 7, 5, 8])\n",
      "[7, 8, 3, 0, 0, 3, 2, 3, 0, 7, 0, 0, 0, 7, 0, 5]\n",
      "[2, 5, 5, 5, 0, 3, 5, 0, 7, 5, 5, 5, 0, 5, 0, 0]\n",
      "2 batches took 671.998153 seconds and has accuracy 0.156250, with train loss 2.514424\n",
      "tensor([5, 6, 2, 1, 7, 7, 0, 0, 0, 4, 6, 7, 6, 6, 2, 1])\n",
      "[7, 8, 3, 0, 0, 3, 2, 3, 0, 2, 0, 0, 3, 7, 0, 5]\n",
      "[2, 5, 5, 5, 0, 3, 5, 0, 7, 5, 5, 5, 5, 5, 0, 0]\n",
      "3 batches took 992.200486 seconds and has accuracy 0.125000, with train loss 2.495987\n",
      "tensor([3, 2, 9, 1, 9, 9, 7, 8, 1, 3, 4, 5, 5, 2, 9, 2])\n",
      "[7, 8, 3, 0, 0, 3, 2, 3, 0, 7, 0, 0, 7, 7, 7, 5]\n",
      "[2, 5, 5, 8, 0, 3, 5, 0, 7, 5, 5, 5, 5, 5, 0, 7]\n",
      "4 batches took 1338.977725 seconds and has accuracy 0.125000, with train loss 2.391678\n",
      "tensor([4, 0, 9, 2, 8, 1, 4, 7, 6, 3, 6, 6, 7, 4, 7, 3])\n",
      "[7, 8, 3, 0, 0, 3, 2, 3, 0, 2, 0, 0, 3, 7, 0, 5]\n",
      "[2, 5, 5, 8, 2, 3, 5, 0, 7, 5, 5, 5, 5, 5, 0, 7]\n",
      "5 batches took 1671.389423 seconds and has accuracy 0.125000, with train loss 2.308921\n",
      "tensor([1, 1, 5, 6, 2, 3, 8, 8, 2, 5, 8, 7, 0, 9, 4, 2])\n",
      "[7, 8, 3, 0, 0, 3, 2, 3, 0, 2, 0, 0, 3, 6, 0, 5]\n",
      "[2, 5, 5, 8, 0, 3, 5, 0, 7, 5, 5, 5, 0, 5, 0, 3]\n",
      "6 batches took 1985.042257 seconds and has accuracy 0.156250, with train loss 2.280119\n",
      "tensor([6, 4, 6, 8, 3, 0, 5, 7, 3, 0, 0, 3, 6, 2, 9, 6])\n",
      "[7, 8, 3, 0, 0, 3, 8, 0, 0, 2, 0, 0, 0, 6, 0, 8]\n",
      "[8, 8, 5, 8, 0, 0, 0, 0, 0, 5, 5, 5, 0, 5, 0, 0]\n",
      "7 batches took 2299.082081 seconds and has accuracy 0.125000, with train loss 2.427476\n",
      "tensor([8, 5, 1, 6, 5, 1, 0, 0, 2, 8, 0, 9, 6, 0, 8, 6])\n",
      "[7, 8, 3, 0, 0, 3, 8, 8, 0, 2, 0, 0, 0, 6, 0, 8]\n",
      "[8, 8, 5, 8, 0, 3, 0, 0, 7, 8, 6, 5, 8, 5, 0, 0]\n",
      "8 batches took 2613.489920 seconds and has accuracy 0.093750, with train loss 2.419036\n",
      "tensor([2, 7, 8, 6, 1, 1, 9, 8, 1, 3, 4, 8, 1, 2, 7, 6])\n",
      "[7, 8, 3, 0, 0, 3, 8, 8, 0, 2, 0, 0, 8, 6, 0, 8]\n",
      "[8, 8, 5, 8, 0, 3, 5, 0, 3, 8, 8, 5, 8, 5, 0, 0]\n",
      "9 batches took 2927.324291 seconds and has accuracy 0.093750, with train loss 2.346853\n",
      "tensor([9, 2, 2, 8, 5, 3, 0, 6, 9, 4, 5, 8, 7, 4, 3, 3])\n",
      "[7, 8, 3, 2, 0, 3, 2, 8, 0, 2, 0, 0, 6, 6, 0, 8]\n",
      "[2, 8, 5, 8, 2, 3, 0, 0, 6, 6, 6, 6, 6, 5, 1, 0]\n",
      "10 batches took 3240.864452 seconds and has accuracy 0.062500, with train loss 2.377133\n",
      "tensor([0, 7, 6, 6, 9, 1, 2, 6, 9, 2, 2, 6, 1, 4, 9, 9])\n",
      "[6, 8, 3, 2, 0, 3, 2, 3, 0, 2, 0, 0, 6, 6, 0, 1]\n",
      "[2, 8, 5, 8, 2, 3, 5, 0, 6, 6, 6, 1, 6, 5, 1, 0]\n",
      "11 batches took 3554.679902 seconds and has accuracy 0.031250, with train loss 2.357906\n",
      "tensor([1, 5, 3, 4, 2, 3, 1, 9, 0, 9, 5, 0, 2, 2, 6, 5])\n",
      "[6, 8, 3, 2, 0, 3, 2, 3, 0, 2, 0, 0, 6, 6, 0, 1]\n",
      "[2, 9, 5, 8, 2, 3, 5, 0, 6, 6, 2, 1, 6, 5, 9, 0]\n",
      "12 batches took 3869.059824 seconds and has accuracy 0.031250, with train loss 2.295953\n",
      "tensor([5, 4, 1, 6, 2, 3, 9, 9, 0, 3, 6, 9, 1, 4, 0, 2])\n",
      "[6, 8, 3, 2, 0, 3, 2, 6, 2, 2, 0, 0, 6, 6, 0, 1]\n",
      "[2, 9, 6, 8, 2, 3, 5, 0, 6, 6, 2, 1, 1, 5, 9, 0]\n",
      "13 batches took 4182.849100 seconds and has accuracy 0.031250, with train loss 2.324393\n",
      "tensor([2, 7, 9, 4, 0, 1, 6, 9, 2, 1, 1, 7, 6, 3, 4, 4])\n",
      "[6, 8, 3, 2, 0, 3, 2, 9, 0, 2, 0, 0, 6, 6, 0, 1]\n",
      "[2, 9, 9, 8, 2, 3, 5, 0, 6, 6, 2, 1, 1, 5, 9, 3]\n",
      "1 batches took 4494.955101 seconds and has accuracy 0.062500, with train loss 2.402660\n",
      "tensor([1, 5, 1, 3, 3, 9, 2, 2, 9, 7, 0, 5, 3, 8, 6, 1])\n",
      "[6, 8, 3, 2, 0, 3, 2, 6, 0, 2, 0, 0, 6, 6, 0, 1]\n",
      "[2, 9, 6, 8, 2, 3, 5, 0, 6, 6, 6, 1, 1, 5, 1, 0]\n",
      "2 batches took 4807.431080 seconds and has accuracy 0.031250, with train loss 2.276125\n",
      "tensor([4, 7, 7, 5, 8, 6, 9, 1, 1, 6, 6, 3, 7, 0, 3, 6])\n",
      "[6, 8, 3, 2, 0, 3, 2, 6, 0, 2, 0, 0, 6, 6, 0, 1]\n",
      "[2, 9, 6, 8, 2, 3, 5, 0, 6, 6, 2, 1, 1, 5, 1, 0]\n",
      "3 batches took 5123.369850 seconds and has accuracy 0.031250, with train loss 2.392397\n",
      "tensor([5, 4, 0, 1, 0, 9, 0, 2, 1, 5, 8, 2, 1, 3, 0, 2])\n",
      "[6, 8, 3, 2, 0, 3, 2, 9, 1, 2, 0, 0, 6, 6, 0, 1]\n",
      "[2, 9, 9, 9, 2, 3, 5, 0, 2, 6, 2, 1, 1, 5, 9, 0]\n",
      "4 batches took 5436.662768 seconds and has accuracy 0.062500, with train loss 2.331854\n",
      "tensor([9, 8, 2, 2, 1, 7, 0, 4, 3, 5, 9, 1, 2, 1, 9, 9])\n",
      "[6, 8, 3, 2, 0, 3, 2, 9, 0, 2, 0, 0, 6, 6, 0, 1]\n",
      "[2, 9, 9, 9, 2, 3, 0, 0, 1, 6, 2, 1, 1, 9, 9, 0]\n",
      "5 batches took 5748.691947 seconds and has accuracy 0.062500, with train loss 2.303119\n",
      "tensor([0, 0, 6, 1, 9, 6, 4, 1, 3, 6, 0, 8, 8, 9, 2, 4])\n",
      "[6, 8, 3, 2, 0, 3, 2, 6, 0, 2, 0, 0, 6, 6, 0, 1]\n",
      "[2, 9, 1, 9, 2, 3, 0, 0, 1, 6, 2, 1, 1, 9, 9, 0]\n",
      "6 batches took 6061.253754 seconds and has accuracy 0.031250, with train loss 2.198662\n",
      "tensor([1, 6, 6, 2, 3, 7, 0, 1, 0, 3, 4, 4, 9, 0, 8, 2])\n",
      "[6, 8, 3, 2, 0, 3, 2, 9, 0, 2, 0, 0, 6, 6, 0, 1]\n",
      "[2, 9, 9, 9, 2, 3, 0, 0, 1, 6, 2, 1, 1, 9, 9, 0]\n",
      "7 batches took 6373.409614 seconds and has accuracy 0.062500, with train loss 2.394641\n",
      "tensor([8, 4, 4, 0, 3, 4, 4, 9, 1, 9, 9, 4, 7, 3, 7, 7])\n",
      "[6, 8, 3, 2, 0, 3, 2, 6, 1, 2, 0, 0, 6, 6, 0, 1]\n",
      "[1, 9, 1, 9, 2, 3, 0, 0, 1, 6, 6, 1, 1, 9, 9, 0]\n",
      "8 batches took 6685.705103 seconds and has accuracy 0.031250, with train loss 2.401870\n",
      "tensor([5, 1, 8, 7, 1, 6, 2, 6, 7, 8, 9, 1, 0, 7, 6, 5])\n",
      "[7, 8, 3, 2, 0, 3, 2, 9, 1, 2, 0, 0, 6, 6, 0, 1]\n",
      "[2, 9, 1, 9, 2, 3, 0, 0, 1, 6, 1, 1, 1, 9, 1, 7]\n",
      "9 batches took 6997.648362 seconds and has accuracy 0.093750, with train loss 2.337023\n",
      "tensor([9, 7, 2, 8, 9, 1, 1, 3, 1, 2, 2, 1, 5, 7, 7, 8])\n",
      "[7, 8, 3, 2, 0, 3, 2, 9, 1, 2, 0, 0, 6, 6, 0, 1]\n",
      "[1, 9, 1, 8, 2, 3, 0, 0, 1, 6, 2, 1, 1, 5, 9, 0]\n",
      "10 batches took 7311.287235 seconds and has accuracy 0.093750, with train loss 2.385530\n",
      "tensor([8, 0, 5, 7, 3, 2, 5, 0, 2, 0, 1, 8, 8, 2, 7, 1])\n",
      "[7, 8, 3, 2, 0, 3, 2, 9, 1, 2, 0, 0, 6, 6, 0, 1]\n",
      "[2, 9, 1, 8, 2, 3, 0, 0, 1, 6, 2, 1, 1, 5, 9, 7]\n",
      "11 batches took 7625.258274 seconds and has accuracy 0.093750, with train loss 2.312641\n",
      "tensor([3, 5, 9, 8, 2, 6, 7, 9, 6, 2, 9, 5, 0, 7, 7, 5])\n",
      "[7, 8, 3, 2, 0, 3, 2, 9, 1, 2, 0, 0, 0, 6, 0, 1]\n",
      "[2, 9, 1, 8, 2, 3, 0, 0, 1, 6, 2, 1, 1, 5, 1, 0]\n",
      "12 batches took 7938.484244 seconds and has accuracy 0.093750, with train loss 2.379404\n",
      "tensor([5, 1, 8, 3, 7, 0, 8, 1, 2, 8, 0, 8, 3, 0, 2, 5])\n",
      "[7, 8, 3, 2, 0, 3, 2, 9, 1, 2, 0, 0, 6, 6, 0, 1]\n",
      "[2, 9, 1, 8, 0, 3, 0, 0, 1, 6, 2, 1, 1, 5, 1, 0]\n",
      "13 batches took 8253.452615 seconds and has accuracy 0.093750, with train loss 2.425742\n",
      "tensor([4, 7, 6, 3, 0, 1, 0, 6, 1, 3, 0, 1, 5, 4, 7, 9])\n",
      "[7, 8, 3, 2, 0, 3, 2, 9, 1, 2, 0, 0, 6, 6, 0, 1]\n",
      "[2, 9, 1, 8, 0, 3, 0, 0, 1, 6, 2, 1, 1, 5, 1, 0]\n",
      "1 batches took 8570.533272 seconds and has accuracy 0.093750, with train loss 2.267475\n",
      "tensor([2, 2, 8, 6, 1, 2, 6, 5, 0, 8, 1, 4, 5, 3, 6, 4])\n",
      "[7, 8, 3, 2, 0, 3, 2, 9, 1, 2, 0, 0, 6, 6, 0, 1]\n",
      "[2, 9, 1, 8, 2, 3, 0, 0, 1, 6, 2, 1, 1, 5, 1, 0]\n",
      "2 batches took 8888.121603 seconds and has accuracy 0.093750, with train loss 2.249450\n",
      "tensor([2, 4, 2, 3, 2, 0, 5, 7, 8, 3, 7, 3, 1, 5, 4, 7])\n",
      "[7, 8, 3, 2, 0, 3, 2, 9, 1, 2, 0, 0, 6, 6, 0, 1]\n",
      "[2, 9, 1, 8, 0, 3, 0, 0, 1, 6, 1, 1, 1, 5, 1, 0]\n",
      "3 batches took 9205.288091 seconds and has accuracy 0.093750, with train loss 2.389629\n",
      "tensor([8, 4, 5, 9, 5, 8, 8, 4, 9, 1, 5, 0, 9, 7, 2, 5])\n",
      "[7, 8, 3, 2, 0, 3, 2, 9, 1, 2, 0, 0, 6, 6, 0, 1]\n",
      "[2, 9, 1, 8, 2, 3, 0, 0, 1, 6, 2, 1, 1, 5, 1, 0]\n",
      "4 batches took 9522.434605 seconds and has accuracy 0.093750, with train loss 2.359620\n",
      "tensor([5, 0, 4, 3, 2, 0, 6, 3, 1, 8, 5, 3, 0, 0, 7, 2])\n",
      "[7, 8, 3, 2, 0, 3, 2, 9, 1, 2, 0, 0, 0, 6, 0, 1]\n",
      "[2, 9, 1, 8, 2, 3, 0, 0, 1, 6, 2, 1, 1, 5, 9, 0]\n",
      "5 batches took 9839.152232 seconds and has accuracy 0.093750, with train loss 2.351581\n",
      "tensor([7, 7, 0, 9, 2, 2, 1, 3, 7, 9, 2, 3, 0, 1, 3, 6])\n",
      "[7, 8, 3, 2, 0, 3, 2, 9, 1, 2, 0, 0, 0, 6, 0, 1]\n",
      "[2, 9, 1, 8, 0, 3, 0, 0, 1, 6, 2, 1, 1, 5, 1, 0]\n",
      "6 batches took 10154.725977 seconds and has accuracy 0.093750, with train loss 2.364692\n",
      "tensor([9, 9, 5, 1, 0, 8, 7, 6, 0, 1, 8, 7, 7, 6, 1, 6])\n",
      "[7, 8, 3, 0, 0, 3, 2, 9, 1, 2, 0, 0, 0, 6, 0, 1]\n",
      "[1, 9, 1, 8, 0, 3, 0, 0, 1, 6, 1, 1, 1, 5, 1, 0]\n",
      "7 batches took 10472.548656 seconds and has accuracy 0.125000, with train loss 2.473913\n",
      "tensor([4, 7, 6, 8, 0, 3, 5, 5, 1, 7, 1, 2, 5, 9, 3, 8])\n",
      "[7, 8, 3, 2, 0, 3, 2, 9, 1, 2, 0, 0, 0, 6, 0, 1]\n",
      "[2, 9, 1, 8, 0, 3, 0, 0, 1, 6, 2, 1, 1, 5, 1, 0]\n",
      "8 batches took 10790.077224 seconds and has accuracy 0.093750, with train loss 2.416508\n",
      "tensor([2, 8, 2, 4, 3, 4, 6, 6, 8, 9, 2, 8, 8, 7, 1, 2])\n",
      "[7, 8, 3, 2, 0, 3, 2, 9, 1, 2, 0, 0, 0, 6, 0, 1]\n",
      "[2, 9, 1, 8, 0, 3, 0, 0, 1, 6, 2, 1, 1, 5, 1, 7]\n",
      "9 batches took 11107.364819 seconds and has accuracy 0.093750, with train loss 2.327033\n",
      "tensor([4, 2, 9, 7, 1, 4, 2, 7, 9, 4, 9, 5, 0, 6, 9, 1])\n",
      "[7, 8, 3, 2, 0, 3, 2, 9, 1, 2, 0, 0, 0, 6, 0, 1]\n",
      "[1, 9, 1, 8, 0, 3, 0, 0, 1, 6, 1, 1, 1, 5, 1, 0]\n",
      "10 batches took 11423.785274 seconds and has accuracy 0.093750, with train loss 2.216975\n",
      "tensor([1, 4, 1, 5, 1, 0, 9, 7, 1, 4, 4, 8, 0, 6, 8, 1])\n",
      "[7, 8, 3, 2, 0, 3, 2, 9, 1, 2, 0, 0, 6, 6, 0, 1]\n",
      "[2, 9, 1, 8, 2, 3, 0, 0, 1, 6, 1, 1, 1, 5, 1, 0]\n",
      "11 batches took 11740.430124 seconds and has accuracy 0.093750, with train loss 2.444904\n",
      "tensor([0, 4, 8, 7, 7, 1, 4, 4, 1, 2, 4, 3, 2, 8, 3, 2])\n",
      "[7, 8, 3, 2, 0, 3, 2, 9, 0, 2, 0, 0, 0, 6, 0, 1]\n",
      "[1, 9, 1, 8, 0, 3, 0, 0, 1, 6, 1, 1, 1, 5, 1, 0]\n",
      "12 batches took 12056.305016 seconds and has accuracy 0.093750, with train loss 2.473812\n",
      "tensor([0, 7, 2, 6, 4, 6, 3, 0, 3, 1, 6, 6, 2, 3, 4, 6])\n",
      "[7, 8, 3, 2, 0, 3, 2, 9, 1, 2, 0, 0, 0, 6, 0, 1]\n",
      "[2, 9, 1, 8, 2, 3, 0, 0, 1, 6, 2, 1, 1, 5, 1, 0]\n",
      "13 batches took 12374.158665 seconds and has accuracy 0.093750, with train loss 2.208579\n"
     ]
    }
   ],
   "source": [
    "#Time for the real deal.\n",
    "#Gonna start with the overfit weights cause screw it\n",
    "etas = [1, 3e-1, 1e-1]\n",
    "start = time.time()\n",
    "accuracies = []\n",
    "losses = []\n",
    "for epoch in range(1):\n",
    "    for eta in etas:\n",
    "        for i, data in enumerate(train_loader, 0):\n",
    "            inputs, labels = data\n",
    "            X = encoder(inputs.view(len(labels), -1))\n",
    "            dcost = qml.grad(cost, argnum=[2,3])\n",
    "            theta_grad, bias_grad = dcost(X.numpy(), labels.numpy(), thetas, bias)\n",
    "            loss = cost(X.numpy(), labels.numpy(), thetas, bias)\n",
    "            losses.append(loss)\n",
    "            thetas -= eta * theta_grad\n",
    "            bias -= eta * bias_grad\n",
    "            acc = accuracy(thetas, bias)\n",
    "            accuracies.append(acc)\n",
    "            print(\"%d batches took %f seconds and has accuracy %f, with train loss %f\" % (i + 1, time.time() - start, acc, loss))\n",
    "            if i == 12:\n",
    "                break"
   ]
  },
  {
   "cell_type": "code",
   "execution_count": 85,
   "metadata": {
    "scrolled": true
   },
   "outputs": [
    {
     "data": {
      "image/png": "[encoded data removed]",
      "text/plain": [
       "<Figure size 432x288 with 1 Axes>"
      ]
     },
     "metadata": {
      "needs_background": "light"
     },
     "output_type": "display_data"
    },
    {
     "name": "stdout",
     "output_type": "stream",
     "text": [
      "[ 0.09082535  0.17446782  0.16507269  0.00792867 -0.06083119 -0.16273234\n",
      "  0.03887882 -0.10283275 -0.17272954  0.02195246]\n",
      "2.806044517503409\n"
     ]
    }
   ],
   "source": [
    "plt.plot(losses)\n",
    "plt.show()\n",
    "print(bias)\n",
    "diff_thetas = thetas - init_thetas\n",
    "print(np.sqrt(np.sum(diff_thetas*diff_thetas)))"
   ]
  },
  {
   "cell_type": "code",
   "execution_count": 86,
   "metadata": {
    "scrolled": false
   },
   "outputs": [
    {
     "name": "stdout",
     "output_type": "stream",
     "text": [
      "[ 0.72482535  0.12482535 -0.15117465  0.72682535]\n",
      "[-0.62953218 -0.38753218 -0.29553218 -0.54553218]\n",
      "[0.60307269 0.28107269 0.07107269 0.60707269]\n",
      "[ 0.23992867  0.39192867 -0.90007133  0.07192867]\n",
      "[-0.25083119  0.52916881  0.57316881 -0.24883119]\n",
      "[-0.26873234  0.23926766 -0.49873234 -0.32273234]\n",
      "[-0.61912118  0.19887882  0.65087882 -0.19912118]\n",
      "[ 0.80316725  0.38516725 -0.73483275  0.82916725]\n",
      "[ 0.29127046 -0.37272954 -0.29072954  0.34527046]\n",
      "[-0.38604754  0.41395246  0.12195246  0.13995246]\n"
     ]
    }
   ],
   "source": [
    "#Check for favoritism\n",
    "for i in range(NUM_CLASSES):\n",
    "    print(circuit_tighten(np.random.randn(ENCODING_SIZE), MASK, thetas[i]) + bias[i])"
   ]
  },
  {
   "cell_type": "code",
   "execution_count": 1,
   "metadata": {},
   "outputs": [],
   "source": [
    "#Overfit a linear model with same number of parameters:\n",
    "etas = [1e-2]\n",
    "start = time.time()\n",
    "recoder = nn.Sequential(nn.Linear(10, 40), nn.ReLU(), nn.Linear(40, 10))\n",
    "for eta in etas:\n",
    "    for epoch in range(4):\n",
    "        for i, data in overfit:\n",
    "            inputs, labels = data\n",
    "            X = encoder(inputs.view(len(labels), -1))\n",
    "            \n",
    "            dcost = qml.grad(cost, argnum=[2,3])\n",
    "            theta_grad, bias_grad = dcost(X.numpy(), labels.numpy(), thetas, bias)\n",
    "            loss = cost(X.numpy(), labels.numpy(), thetas, bias)\n",
    "            losses.append(loss)\n",
    "            thetas -= eta * theta_grad\n",
    "            bias -= eta * bias_grad\n",
    "            acc = accuracy(thetas, bias)\n",
    "            accuracies.append(acc)\n",
    "            print(\"%d batches took %f seconds and has accuracy %f, with train loss %f\" % (i + 1, time.time() - start, acc, loss))\n",
    "            if i == 1:\n",
    "                break"
   ]
  },
  {
   "cell_type": "code",
   "execution_count": null,
   "metadata": {},
   "outputs": [],
   "source": []
  }
 ],
 "metadata": {
  "kernelspec": {
   "display_name": "Python 3",
   "language": "python",
   "name": "python3"
  },
  "language_info": {
   "codemirror_mode": {
    "name": "ipython",
    "version": 3
   },
   "file_extension": ".py",
   "mimetype": "text/x-python",
   "name": "python",
   "nbconvert_exporter": "python",
   "pygments_lexer": "ipython3",
   "version": "3.7.1"
  }
 },
 "nbformat": 4,
 "nbformat_minor": 2
}
